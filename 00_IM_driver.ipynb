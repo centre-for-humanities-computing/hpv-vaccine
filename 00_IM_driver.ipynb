{
 "cells": [
  {
   "cell_type": "markdown",
   "metadata": {},
   "source": [
    "Table of contents:\n",
    "TODO"
   ]
  },
  {
   "cell_type": "markdown",
   "metadata": {},
   "source": [
    "## Removal of giveaway posts\n",
    "\n",
    "a) __Naive Bayes classification__ of FB posts to detect viral marketing.  \n",
    "b) __remove whole threads__ that started with a giveaway post. \n",
    "\n",
    "Before removal: 114,826 documents  \n",
    "After removal: 59,207 documents\n"
   ]
  },
  {
   "cell_type": "code",
   "execution_count": 7,
   "metadata": {},
   "outputs": [],
   "source": [
    "import pandas as pd\n",
    "\n",
    "from src.giveaway.GiveawayClassifier import GiveawayClassifier\n",
    "from src.utility.general import export_serialized"
   ]
  },
  {
   "cell_type": "code",
   "execution_count": 2,
   "metadata": {},
   "outputs": [
    {
     "name": "stderr",
     "output_type": "stream",
     "text": [
      "/home/jan/word-vects/lib/python3.6/site-packages/IPython/core/interactiveshell.py:3063: DtypeWarning: Columns (7,8,14) have mixed types.Specify dtype option on import or set low_memory=False.\n",
      "  interactivity=interactivity, compiler=compiler, result=result)\n"
     ]
    }
   ],
   "source": [
    "# load in dataset you with to work on\n",
    "df = pd.read_csv(\n",
    "    'data/hpv_data_reactions_copy.csv',\n",
    "    parse_dates = ['time']\n",
    ")"
   ]
  },
  {
   "cell_type": "markdown",
   "metadata": {},
   "source": [
    "Load training data for the classifier (494 documents).  \n",
    "\n",
    "POST-level content found to contain Marie Louise's stopwords.  \n",
    "Hand labeled by one person."
   ]
  },
  {
   "cell_type": "code",
   "execution_count": 3,
   "metadata": {},
   "outputs": [],
   "source": [
    "labeled = (pd.read_csv('data/200414_giveaway_training.csv')\n",
    "           # drops 2 rows with a missing label (496 rows in original file)\n",
    "           .dropna(subset=['giveaway']))\n",
    "\n",
    "X = labeled['text']\n",
    "y = labeled['giveaway']"
   ]
  },
  {
   "cell_type": "markdown",
   "metadata": {},
   "source": [
    "Train the Giveaway Classifier."
   ]
  },
  {
   "cell_type": "code",
   "execution_count": 4,
   "metadata": {},
   "outputs": [
    {
     "data": {
      "text/html": [
       "<div>\n",
       "<style scoped>\n",
       "    .dataframe tbody tr th:only-of-type {\n",
       "        vertical-align: middle;\n",
       "    }\n",
       "\n",
       "    .dataframe tbody tr th {\n",
       "        vertical-align: top;\n",
       "    }\n",
       "\n",
       "    .dataframe thead th {\n",
       "        text-align: right;\n",
       "    }\n",
       "</style>\n",
       "<table border=\"1\" class=\"dataframe\">\n",
       "  <thead>\n",
       "    <tr style=\"text-align: right;\">\n",
       "      <th></th>\n",
       "      <th>accuracy</th>\n",
       "      <th>brier_n</th>\n",
       "      <th>brier_giveaway</th>\n",
       "      <th>recall_n</th>\n",
       "      <th>recall_giveaway</th>\n",
       "      <th>precision_n</th>\n",
       "      <th>precision_giveaway</th>\n",
       "    </tr>\n",
       "  </thead>\n",
       "  <tbody>\n",
       "    <tr>\n",
       "      <th>train</th>\n",
       "      <td>0.973913</td>\n",
       "      <td>0.973913</td>\n",
       "      <td>0.026087</td>\n",
       "      <td>0.992832</td>\n",
       "      <td>0.893939</td>\n",
       "      <td>0.975352</td>\n",
       "      <td>0.967213</td>\n",
       "    </tr>\n",
       "    <tr>\n",
       "      <th>test</th>\n",
       "      <td>0.973154</td>\n",
       "      <td>0.973154</td>\n",
       "      <td>0.026846</td>\n",
       "      <td>0.984252</td>\n",
       "      <td>0.909091</td>\n",
       "      <td>0.984252</td>\n",
       "      <td>0.909091</td>\n",
       "    </tr>\n",
       "  </tbody>\n",
       "</table>\n",
       "</div>"
      ],
      "text/plain": [
       "       accuracy   brier_n  brier_giveaway  recall_n  recall_giveaway  \\\n",
       "train  0.973913  0.973913        0.026087  0.992832         0.893939   \n",
       "test   0.973154  0.973154        0.026846  0.984252         0.909091   \n",
       "\n",
       "       precision_n  precision_giveaway  \n",
       "train     0.975352            0.967213  \n",
       "test      0.984252            0.909091  "
      ]
     },
     "execution_count": 4,
     "metadata": {},
     "output_type": "execute_result"
    }
   ],
   "source": [
    "gc = GiveawayClassifier(X=X, y=y)\n",
    "gc.train()\n",
    "gc.report"
   ]
  },
  {
   "cell_type": "markdown",
   "metadata": {},
   "source": [
    "Classify only POST-level content in the loaded dataset.  \n",
    "The model classifies short comments unreliably."
   ]
  },
  {
   "cell_type": "code",
   "execution_count": 5,
   "metadata": {},
   "outputs": [
    {
     "data": {
      "text/html": [
       "<div>\n",
       "<style scoped>\n",
       "    .dataframe tbody tr th:only-of-type {\n",
       "        vertical-align: middle;\n",
       "    }\n",
       "\n",
       "    .dataframe tbody tr th {\n",
       "        vertical-align: top;\n",
       "    }\n",
       "\n",
       "    .dataframe thead th {\n",
       "        text-align: right;\n",
       "    }\n",
       "</style>\n",
       "<table border=\"1\" class=\"dataframe\">\n",
       "  <thead>\n",
       "    <tr style=\"text-align: right;\">\n",
       "      <th></th>\n",
       "      <th>id_orig</th>\n",
       "      <th>text</th>\n",
       "      <th>predicted</th>\n",
       "    </tr>\n",
       "  </thead>\n",
       "  <tbody>\n",
       "    <tr>\n",
       "      <th>21</th>\n",
       "      <td>109826</td>\n",
       "      <td>Et GODT svar  :)\\n\\nhttps://www.facebook.com/g...</td>\n",
       "      <td>1.0</td>\n",
       "    </tr>\n",
       "    <tr>\n",
       "      <th>608</th>\n",
       "      <td>110413</td>\n",
       "      <td>VIND 2 PLADSER TIL VORES OVERDÅDIGE SKALDYRSBU...</td>\n",
       "      <td>1.0</td>\n",
       "    </tr>\n",
       "    <tr>\n",
       "      <th>636</th>\n",
       "      <td>110441</td>\n",
       "      <td>*** TILLYKKE TIL DEN HELDIGE VINDER : Christin...</td>\n",
       "      <td>1.0</td>\n",
       "    </tr>\n",
       "    <tr>\n",
       "      <th>668</th>\n",
       "      <td>110473</td>\n",
       "      <td>Velkommen til Ærø 😊\\nhttps://www.facebook.com/...</td>\n",
       "      <td>1.0</td>\n",
       "    </tr>\n",
       "    <tr>\n",
       "      <th>705</th>\n",
       "      <td>110510</td>\n",
       "      <td>Konkurrence! I vores nye elektronikbutik, Capi...</td>\n",
       "      <td>1.0</td>\n",
       "    </tr>\n",
       "    <tr>\n",
       "      <th>...</th>\n",
       "      <td>...</td>\n",
       "      <td>...</td>\n",
       "      <td>...</td>\n",
       "    </tr>\n",
       "    <tr>\n",
       "      <th>4932</th>\n",
       "      <td>114737</td>\n",
       "      <td>Konkurrence: Vind et valgfrit ur fra Wooden Wo...</td>\n",
       "      <td>1.0</td>\n",
       "    </tr>\n",
       "    <tr>\n",
       "      <th>4990</th>\n",
       "      <td>114795</td>\n",
       "      <td>Stadig ledige pladser til årets julegave-works...</td>\n",
       "      <td>1.0</td>\n",
       "    </tr>\n",
       "    <tr>\n",
       "      <th>5008</th>\n",
       "      <td>114813</td>\n",
       "      <td>Yoga i bjergtagende landskaber. Et alternativt...</td>\n",
       "      <td>1.0</td>\n",
       "    </tr>\n",
       "    <tr>\n",
       "      <th>5010</th>\n",
       "      <td>114815</td>\n",
       "      <td>Nu er det snart jul - og det vil vi gerne fejr...</td>\n",
       "      <td>1.0</td>\n",
       "    </tr>\n",
       "    <tr>\n",
       "      <th>5014</th>\n",
       "      <td>114819</td>\n",
       "      <td>Sig tak med en julefest\\n\\nJulen er hjerternes...</td>\n",
       "      <td>1.0</td>\n",
       "    </tr>\n",
       "  </tbody>\n",
       "</table>\n",
       "<p>116 rows × 3 columns</p>\n",
       "</div>"
      ],
      "text/plain": [
       "      id_orig                                               text  predicted\n",
       "21     109826  Et GODT svar  :)\\n\\nhttps://www.facebook.com/g...        1.0\n",
       "608    110413  VIND 2 PLADSER TIL VORES OVERDÅDIGE SKALDYRSBU...        1.0\n",
       "636    110441  *** TILLYKKE TIL DEN HELDIGE VINDER : Christin...        1.0\n",
       "668    110473  Velkommen til Ærø 😊\\nhttps://www.facebook.com/...        1.0\n",
       "705    110510  Konkurrence! I vores nye elektronikbutik, Capi...        1.0\n",
       "...       ...                                                ...        ...\n",
       "4932   114737  Konkurrence: Vind et valgfrit ur fra Wooden Wo...        1.0\n",
       "4990   114795  Stadig ledige pladser til årets julegave-works...        1.0\n",
       "5008   114813  Yoga i bjergtagende landskaber. Et alternativt...        1.0\n",
       "5010   114815  Nu er det snart jul - og det vil vi gerne fejr...        1.0\n",
       "5014   114819  Sig tak med en julefest\\n\\nJulen er hjerternes...        1.0\n",
       "\n",
       "[116 rows x 3 columns]"
      ]
     },
     "execution_count": 5,
     "metadata": {},
     "output_type": "execute_result"
    }
   ],
   "source": [
    "df_post = df.query('content_type == \"POST\"')\n",
    "\n",
    "giveawas_df = (gc\n",
    "               .predict_new(df_post.text, negative_for_url=True)\n",
    "               .query('predicted == 1')\n",
    "               .rename(columns={'index': 'id_orig'})\n",
    "              )\n",
    "\n",
    "giveawas_df"
   ]
  },
  {
   "cell_type": "markdown",
   "metadata": {},
   "source": [
    "Filter found threads from the original dataset  \n",
    "a) find post_id's that were labeled as a giveaway  \n",
    "b) filter threads with such post ids out  "
   ]
  },
  {
   "cell_type": "code",
   "execution_count": 6,
   "metadata": {},
   "outputs": [],
   "source": [
    "bad_threads = df.query('@giveawas_df.id_orig').post_id\n",
    "bad_threads = [num for num in bad_threads]\n",
    "\n",
    "# remove bad threads\n",
    "S1_giveaway_removed = df.query('post_id != @bad_threads')\n",
    "\n",
    "# save whole dataframe\n",
    "S1_giveaway_removed.to_csv('data/S1_giveaway_removed.csv')\n",
    "\n",
    "# save texts with ID\n",
    "export_serialized(\n",
    "    df=S1_giveaway_removed,\n",
    "    column='text',\n",
    "    path='data/S2_text_id.ndjson'\n",
    ")"
   ]
  },
  {
   "cell_type": "markdown",
   "metadata": {},
   "source": [
    "<br>\n",
    "\n",
    "## Preprocessing\n",
    "_[text_to_x](https://github.com/centre-for-humanities-computing/text_to_x)_\n",
    "\n",
    "a) __tokens__, __lemmas__, __POS__ & __dependency parsing__ using [Stanza](https://github.com/stanfordnlp/stanza)  \n",
    "b) __NER__ using [Flair](https://github.com/flairNLP/flair)"
   ]
  },
  {
   "cell_type": "markdown",
   "metadata": {},
   "source": [
    "Takes a lot of time to run. \n",
    "It is recommended that you run this part from the terminal.\n",
    "\n",
    "```bash\n",
    "cd hpv-vaccine\n",
    "python3 src/preprocessing.py -p data/S2_text_id.ndjson -o data/S3_prep.ndjson --lang 'da' --jobs 4 --bugstring True\n",
    "```\n"
   ]
  },
  {
   "cell_type": "markdown",
   "metadata": {},
   "source": [
    "<br>\n",
    "\n",
    "## Feature selection \n",
    "\n",
    "a) __Filter out non-meaningful Parts of Speech from all texts__.   \n",
    "Only NOUN, PROP-NOUN, ADJ, VERB and ADVERB will be kept\n",
    "\n",
    "\n",
    "b) __Neural detection of phrases__.  \n",
    "If two tokens appear together often, they will be concatenated into a single token."
   ]
  },
  {
   "cell_type": "code",
   "execution_count": 1,
   "metadata": {},
   "outputs": [],
   "source": [
    "import ndjson\n",
    "\n",
    "from src.utility import phraser\n",
    "from src.utility.general import load_data"
   ]
  },
  {
   "cell_type": "code",
   "execution_count": 2,
   "metadata": {},
   "outputs": [],
   "source": [
    "# import preprocessed data\n",
    "texts_id = load_data('data/infomedia_prep.ndjson')\n",
    "\n",
    "# phraser has both a) & b) functionality\n",
    "texts_phrased = phraser.train(\n",
    "    texts_id,\n",
    "    lang='da',\n",
    "    out_path='data/S4_infomedia_phrase.ndjson'\n",
    ")\n",
    "\n",
    "# texts only\n",
    "texts = [doc['text'] for doc in texts_phrased]\n",
    "# ids only\n",
    "ids = [doc['id'] for doc in texts_phrased]"
   ]
  },
  {
   "cell_type": "code",
   "execution_count": 3,
   "metadata": {},
   "outputs": [],
   "source": [
    "### in case you don't want to run the phraser each time\n",
    "# text data\n",
    "import pickle\n",
    "\n",
    "with open('data/Infomedia/da_hpv_seed_model.pcl', 'rb') as f:\n",
    "    data_im = pickle.load(f)\n",
    "\n",
    "# texts only\n",
    "texts_im = data_im['data']\n",
    "# ids only\n",
    "ids_im = data_im['dates']"
   ]
  },
  {
   "cell_type": "code",
   "execution_count": 11,
   "metadata": {},
   "outputs": [],
   "source": [
    "texts_im = [doc.split() for doc in texts_im]"
   ]
  },
  {
   "cell_type": "markdown",
   "metadata": {},
   "source": [
    "<br>\n",
    "\n",
    "## Seed selection\n",
    "\n",
    "a) __Train a CBOW model__  \n",
    "To be used for finding related words to query.  \n",
    "Intentions behind the parameters:\n",
    "- words that appear together in the whole FB post (window=20)\n",
    "- frequent words, so that the seeds are generalizable (min_count=100)\n",
    "\n",
    "_comment: potentially this could be taken care of by PmiSvdEmbeddings._\n",
    "\n",
    "b) __Enhance phrase list__  \n",
    "Add synonyms and related words to a given phrase list. This will be used as guide the topic model."
   ]
  },
  {
   "cell_type": "code",
   "execution_count": 3,
   "metadata": {},
   "outputs": [],
   "source": [
    "from gensim.models import Word2Vec, KeyedVectors\n",
    "\n",
    "# from src.embeddings.pmisvd import PmiSvdEmbeddings\n",
    "from src.embeddings.query_ops import import_query, get_related"
   ]
  },
  {
   "cell_type": "markdown",
   "metadata": {},
   "source": [
    "Import desired seeds in a long csv format.  \n",
    "The seeds to be enhanced are in a single column (col)."
   ]
  },
  {
   "cell_type": "code",
   "execution_count": 4,
   "metadata": {},
   "outputs": [
    {
     "name": "stderr",
     "output_type": "stream",
     "text": [
      "2020-08-26 22:32:06 INFO: Loading these models for language: da (Danish):\n",
      "=======================\n",
      "| Processor | Package |\n",
      "-----------------------\n",
      "| tokenize  | ddt     |\n",
      "| pos       | ddt     |\n",
      "| lemma     | ddt     |\n",
      "=======================\n",
      "\n",
      "2020-08-26 22:32:06 INFO: Use device: gpu\n",
      "2020-08-26 22:32:06 INFO: Loading: tokenize\n",
      "2020-08-26 22:32:09 INFO: Loading: pos\n",
      "2020-08-26 22:32:09 INFO: Loading: lemma\n",
      "2020-08-26 22:32:09 INFO: Done loading processors!\n"
     ]
    }
   ],
   "source": [
    "# import phrase list\n",
    "query_list = import_query(\n",
    "    ordlist_path='data/200818_hpv_query.csv',\n",
    "    lang='da',\n",
    "    col='term'\n",
    ")"
   ]
  },
  {
   "cell_type": "markdown",
   "metadata": {},
   "source": [
    "Train the CBOW model and get {topn} related words to each term.  \n",
    "A related word must appear at least {cutoff} times  least 50 times in the dataset."
   ]
  },
  {
   "cell_type": "code",
   "execution_count": 5,
   "metadata": {},
   "outputs": [
    {
     "name": "stderr",
     "output_type": "stream",
     "text": [
      "/home/jan/hpv-vaccine/src/embeddings/query_ops.py:101: SettingWithCopyWarning: \n",
      "A value is trying to be set on a copy of a slice from a DataFrame.\n",
      "Try using .loc[row_indexer,col_indexer] = value instead\n",
      "\n",
      "See the caveats in the documentation: https://pandas.pydata.org/pandas-docs/stable/user_guide/indexing.html#returning-a-view-versus-a-copy\n",
      "  hf_related['similarity'] = round(hf_related['similarity'], 2)\n"
     ]
    }
   ],
   "source": [
    "# train a cbow model\n",
    "cbow_texts = Word2Vec(\n",
    "    texts,\n",
    "    size=100, window=20, min_count=100,\n",
    "    sg=0, hs=0,\n",
    "    iter=500, workers=4\n",
    ")\n",
    "\n",
    "# get a list of words similar to those in the phrase list\n",
    "query_related = get_related(cbow_texts.wv, query_list, topn=10, cutoff=50)"
   ]
  },
  {
   "cell_type": "markdown",
   "metadata": {},
   "source": [
    "The model can also be browser from here"
   ]
  },
  {
   "cell_type": "code",
   "execution_count": null,
   "metadata": {},
   "outputs": [],
   "source": [
    "get_related(cbow_texts.wv, ['køn'], topn=10, cutoff=50)"
   ]
  },
  {
   "cell_type": "markdown",
   "metadata": {},
   "source": [
    "Add topic labels & export"
   ]
  },
  {
   "cell_type": "code",
   "execution_count": 8,
   "metadata": {},
   "outputs": [],
   "source": [
    "# add topic labels to the enhanced list\n",
    "topic = pd.read_csv('data/200818_hpv_query.csv')\n",
    "enhanced_topic = pd.merge(query_related, topic, on='term')\n",
    "\n",
    "# save\n",
    "(enhanced_topic\n",
    " .to_csv('data/S5_infomedia_query_related.csv'))"
   ]
  },
  {
   "cell_type": "markdown",
   "metadata": {},
   "source": [
    "Now the seeds have to be __manually redacted__."
   ]
  },
  {
   "cell_type": "markdown",
   "metadata": {},
   "source": [
    "<br>\n",
    "\n",
    "## Topic modeling"
   ]
  },
  {
   "cell_type": "code",
   "execution_count": 7,
   "metadata": {},
   "outputs": [],
   "source": [
    "from itertools import product\n",
    "\n",
    "import pandas as pd\n",
    "\n",
    "from src.lda.asymmetric import grid_search_lda_ASM\n",
    "from src.lda.seeded import grid_search_lda_SED\n",
    "from src.utility.general import compile_report"
   ]
  },
  {
   "cell_type": "code",
   "execution_count": 5,
   "metadata": {},
   "outputs": [],
   "source": [
    "# extract topic seeds\n",
    "S6_query_redacted = pd.read_csv('data/S6_query_redacted.csv')\n",
    "seeds = (S6_query_redacted\n",
    "         .dropna(subset=['related'])\n",
    "         .groupby('topic')['related']\n",
    "         .apply(list)\n",
    "         .to_frame()\n",
    "         .related\n",
    "         .tolist())"
   ]
  },
  {
   "cell_type": "code",
   "execution_count": 6,
   "metadata": {},
   "outputs": [
    {
     "data": {
      "text/plain": [
       "12"
      ]
     },
     "execution_count": 6,
     "metadata": {},
     "output_type": "execute_result"
    }
   ],
   "source": [
    "len(seeds)"
   ]
  },
  {
   "cell_type": "markdown",
   "metadata": {},
   "source": [
    "### Seeded LDA\n",
    "\n",
    "a) pick folder to save the resutls to (`batch_sed`)  \n",
    "b) pick priors (`priors_range`). Each tuple is a pair of alpha and eta.  \n",
    "c) train using `grid_search_lda_SED()`  \n",
    "d) evaluate models by topic coherence using `compile_report()`  "
   ]
  },
  {
   "cell_type": "code",
   "execution_count": 7,
   "metadata": {},
   "outputs": [],
   "source": [
    "# please change destination folder here\n",
    "batch_sed = 'models/200826_seed_prior_test/'"
   ]
  },
  {
   "cell_type": "code",
   "execution_count": 8,
   "metadata": {},
   "outputs": [],
   "source": [
    "# pick priors\n",
    "alpha_range = [0.05, 0.1, 0.5, 1, 5]\n",
    "eta_range = [0.05, 0.1, 0.5, 1, 5]\n",
    "\n",
    "priors_range = list(product(alpha_range, eta_range))"
   ]
  },
  {
   "cell_type": "code",
   "execution_count": null,
   "metadata": {},
   "outputs": [
    {
     "name": "stderr",
     "output_type": "stream",
     "text": [
      "/home/jan/word-vects/lib/python3.6/site-packages/guidedlda/utils.py:55: FutureWarning: Conversion of the second argument of issubdtype from `int` to `np.signedinteger` is deprecated. In future, it will be treated as `np.int64 == np.dtype(int).type`.\n",
      "  if sparse and not np.issubdtype(doc_word.dtype, int):\n",
      "/home/jan/word-vects/lib/python3.6/site-packages/guidedlda/utils.py:55: FutureWarning: Conversion of the second argument of issubdtype from `int` to `np.signedinteger` is deprecated. In future, it will be treated as `np.int64 == np.dtype(int).type`.\n",
      "  if sparse and not np.issubdtype(doc_word.dtype, int):\n"
     ]
    }
   ],
   "source": [
    "# train\n",
    "grid_search_lda_SED(\n",
    "    texts=texts,\n",
    "    seed_topic_list=seeds,\n",
    "    n_topics_range=[16, 17, 18, 19, 21, 22, 23, 24, 26, 27, 28, 29],\n",
    "    priors_range=priors_range,\n",
    "    out_dir=batch_sed,\n",
    "    n_top_words=20,\n",
    "    seed_confidence=0.5,\n",
    "    iterations=2000,\n",
    "    save_doc_top=True,\n",
    "    verbose=False\n",
    ")"
   ]
  },
  {
   "cell_type": "code",
   "execution_count": 10,
   "metadata": {},
   "outputs": [
    {
     "data": {
      "text/html": [
       "<div>\n",
       "<style scoped>\n",
       "    .dataframe tbody tr th:only-of-type {\n",
       "        vertical-align: middle;\n",
       "    }\n",
       "\n",
       "    .dataframe tbody tr th {\n",
       "        vertical-align: top;\n",
       "    }\n",
       "\n",
       "    .dataframe thead th {\n",
       "        text-align: right;\n",
       "    }\n",
       "</style>\n",
       "<table border=\"1\" class=\"dataframe\">\n",
       "  <thead>\n",
       "    <tr style=\"text-align: right;\">\n",
       "      <th></th>\n",
       "      <th>model</th>\n",
       "      <th>n_top</th>\n",
       "      <th>alpha</th>\n",
       "      <th>eta</th>\n",
       "      <th>training_time</th>\n",
       "      <th>coh_score</th>\n",
       "      <th>coh_topic</th>\n",
       "    </tr>\n",
       "  </thead>\n",
       "  <tbody>\n",
       "    <tr>\n",
       "      <th>0</th>\n",
       "      <td>25T_005A_1E_seed</td>\n",
       "      <td>25</td>\n",
       "      <td>0.05</td>\n",
       "      <td>1.00</td>\n",
       "      <td>129.797871</td>\n",
       "      <td>0.580126</td>\n",
       "      <td>[0.6230598251022388, 0.3769565218385562, 0.594...</td>\n",
       "    </tr>\n",
       "    <tr>\n",
       "      <th>1</th>\n",
       "      <td>12T_005A_1E_seed</td>\n",
       "      <td>12</td>\n",
       "      <td>0.05</td>\n",
       "      <td>1.00</td>\n",
       "      <td>78.838708</td>\n",
       "      <td>0.579669</td>\n",
       "      <td>[0.6005169490417496, 0.536123988406887, 0.5490...</td>\n",
       "    </tr>\n",
       "    <tr>\n",
       "      <th>2</th>\n",
       "      <td>12T_5A_05E_seed</td>\n",
       "      <td>12</td>\n",
       "      <td>5.00</td>\n",
       "      <td>0.50</td>\n",
       "      <td>101.886114</td>\n",
       "      <td>0.577311</td>\n",
       "      <td>[0.456008644879629, 0.6529585071548172, 0.6124...</td>\n",
       "    </tr>\n",
       "    <tr>\n",
       "      <th>3</th>\n",
       "      <td>15T_5A_01E_seed</td>\n",
       "      <td>15</td>\n",
       "      <td>5.00</td>\n",
       "      <td>0.10</td>\n",
       "      <td>114.265681</td>\n",
       "      <td>0.576365</td>\n",
       "      <td>[0.3722449200291431, 0.6426204464777522, 0.503...</td>\n",
       "    </tr>\n",
       "    <tr>\n",
       "      <th>4</th>\n",
       "      <td>20T_05A_005E_seed</td>\n",
       "      <td>20</td>\n",
       "      <td>0.50</td>\n",
       "      <td>0.05</td>\n",
       "      <td>131.331287</td>\n",
       "      <td>0.574940</td>\n",
       "      <td>[0.5590831074416361, 0.6404184041254657, 0.344...</td>\n",
       "    </tr>\n",
       "    <tr>\n",
       "      <th>...</th>\n",
       "      <td>...</td>\n",
       "      <td>...</td>\n",
       "      <td>...</td>\n",
       "      <td>...</td>\n",
       "      <td>...</td>\n",
       "      <td>...</td>\n",
       "      <td>...</td>\n",
       "    </tr>\n",
       "    <tr>\n",
       "      <th>139</th>\n",
       "      <td>20T_5A_5E_seed</td>\n",
       "      <td>20</td>\n",
       "      <td>5.00</td>\n",
       "      <td>5.00</td>\n",
       "      <td>127.369119</td>\n",
       "      <td>0.359965</td>\n",
       "      <td>[0.29378898939245285, 0.31640463774554195, 0.3...</td>\n",
       "    </tr>\n",
       "    <tr>\n",
       "      <th>140</th>\n",
       "      <td>30T_1A_1E_seed</td>\n",
       "      <td>30</td>\n",
       "      <td>1.00</td>\n",
       "      <td>1.00</td>\n",
       "      <td>163.682590</td>\n",
       "      <td>0.356737</td>\n",
       "      <td>[0.39160667937727334, 0.3144211502160263, 0.33...</td>\n",
       "    </tr>\n",
       "    <tr>\n",
       "      <th>141</th>\n",
       "      <td>30T_1A_5E_seed</td>\n",
       "      <td>30</td>\n",
       "      <td>1.00</td>\n",
       "      <td>5.00</td>\n",
       "      <td>154.842928</td>\n",
       "      <td>0.347539</td>\n",
       "      <td>[0.3182289190822557, 0.3421898944467148, 0.409...</td>\n",
       "    </tr>\n",
       "    <tr>\n",
       "      <th>142</th>\n",
       "      <td>15T_5A_5E_seed</td>\n",
       "      <td>15</td>\n",
       "      <td>5.00</td>\n",
       "      <td>5.00</td>\n",
       "      <td>104.974241</td>\n",
       "      <td>0.323242</td>\n",
       "      <td>[0.3415776480756073, 0.24683031095031857, 0.25...</td>\n",
       "    </tr>\n",
       "    <tr>\n",
       "      <th>143</th>\n",
       "      <td>12T_5A_5E_seed</td>\n",
       "      <td>12</td>\n",
       "      <td>5.00</td>\n",
       "      <td>5.00</td>\n",
       "      <td>92.641288</td>\n",
       "      <td>0.315302</td>\n",
       "      <td>[0.2425017345072268, 0.331050519331778, 0.2675...</td>\n",
       "    </tr>\n",
       "  </tbody>\n",
       "</table>\n",
       "<p>144 rows × 7 columns</p>\n",
       "</div>"
      ],
      "text/plain": [
       "                 model  n_top  alpha   eta  training_time  coh_score  \\\n",
       "0     25T_005A_1E_seed     25   0.05  1.00     129.797871   0.580126   \n",
       "1     12T_005A_1E_seed     12   0.05  1.00      78.838708   0.579669   \n",
       "2      12T_5A_05E_seed     12   5.00  0.50     101.886114   0.577311   \n",
       "3      15T_5A_01E_seed     15   5.00  0.10     114.265681   0.576365   \n",
       "4    20T_05A_005E_seed     20   0.50  0.05     131.331287   0.574940   \n",
       "..                 ...    ...    ...   ...            ...        ...   \n",
       "139     20T_5A_5E_seed     20   5.00  5.00     127.369119   0.359965   \n",
       "140     30T_1A_1E_seed     30   1.00  1.00     163.682590   0.356737   \n",
       "141     30T_1A_5E_seed     30   1.00  5.00     154.842928   0.347539   \n",
       "142     15T_5A_5E_seed     15   5.00  5.00     104.974241   0.323242   \n",
       "143     12T_5A_5E_seed     12   5.00  5.00      92.641288   0.315302   \n",
       "\n",
       "                                             coh_topic  \n",
       "0    [0.6230598251022388, 0.3769565218385562, 0.594...  \n",
       "1    [0.6005169490417496, 0.536123988406887, 0.5490...  \n",
       "2    [0.456008644879629, 0.6529585071548172, 0.6124...  \n",
       "3    [0.3722449200291431, 0.6426204464777522, 0.503...  \n",
       "4    [0.5590831074416361, 0.6404184041254657, 0.344...  \n",
       "..                                                 ...  \n",
       "139  [0.29378898939245285, 0.31640463774554195, 0.3...  \n",
       "140  [0.39160667937727334, 0.3144211502160263, 0.33...  \n",
       "141  [0.3182289190822557, 0.3421898944467148, 0.409...  \n",
       "142  [0.3415776480756073, 0.24683031095031857, 0.25...  \n",
       "143  [0.2425017345072268, 0.331050519331778, 0.2675...  \n",
       "\n",
       "[144 rows x 7 columns]"
      ]
     },
     "execution_count": 10,
     "metadata": {},
     "output_type": "execute_result"
    }
   ],
   "source": [
    "# evaluate\n",
    "compile_report(batch_sed + 'report_lines/')"
   ]
  },
  {
   "cell_type": "markdown",
   "metadata": {},
   "source": [
    "### \"Asymmetric\" LDA"
   ]
  },
  {
   "cell_type": "code",
   "execution_count": 4,
   "metadata": {},
   "outputs": [],
   "source": [
    "# please change destination folder here\n",
    "batch_asm = 'models/200903_asm_infomedia/'"
   ]
  },
  {
   "cell_type": "code",
   "execution_count": null,
   "metadata": {},
   "outputs": [],
   "source": [
    "grid_search_lda_ASM(\n",
    "    texts=texts_im,\n",
    "    n_topics_range=range(5, 31, 1),\n",
    "    iterations=2000,\n",
    "    passes=2,\n",
    "    out_dir=batch_asm,\n",
    "    verbose=False,\n",
    "    save_doc_top=True,\n",
    ")"
   ]
  },
  {
   "cell_type": "code",
   "execution_count": null,
   "metadata": {},
   "outputs": [],
   "source": [
    "compile_report(batch_asm + 'report_lines/')"
   ]
  },
  {
   "cell_type": "markdown",
   "metadata": {},
   "source": [
    "<br>\n",
    "\n",
    "## Model evolution"
   ]
  },
  {
   "cell_type": "code",
   "execution_count": null,
   "metadata": {},
   "outputs": [],
   "source": [
    "import src.topicevolution.run_ntr as ntr "
   ]
  },
  {
   "cell_type": "code",
   "execution_count": null,
   "metadata": {},
   "outputs": [],
   "source": [
    "# is there a better way of solving this?\n",
    "# couldn't we use some batch_asm trick?\n",
    "import ndjson\n",
    "\n",
    "with open('models/200811_asm/doctop_mats/10T_ASM_mat.ndjson') as f:\n",
    "    doctop = ndjson.load(f)"
   ]
  },
  {
   "cell_type": "code",
   "execution_count": null,
   "metadata": {},
   "outputs": [],
   "source": [
    "len(doctop) == len(ids)"
   ]
  },
  {
   "cell_type": "code",
   "execution_count": null,
   "metadata": {},
   "outputs": [],
   "source": [
    "ntr.process_windows(\n",
    "    doc_top_prob=doctop,\n",
    "    ID=ids,\n",
    "    window=[50, 100, 200],\n",
    "    out_dir='models/200811_asm/ntr/10T_ASM/'\n",
    ")"
   ]
  },
  {
   "cell_type": "markdown",
   "metadata": {},
   "source": [
    "<br>\n",
    "\n",
    "## Topic usage"
   ]
  },
  {
   "cell_type": "code",
   "execution_count": null,
   "metadata": {},
   "outputs": [],
   "source": []
  }
 ],
 "metadata": {
  "kernelspec": {
   "display_name": "word-vects",
   "language": "python",
   "name": "word-vects"
  },
  "language_info": {
   "codemirror_mode": {
    "name": "ipython",
    "version": 3
   },
   "file_extension": ".py",
   "mimetype": "text/x-python",
   "name": "python",
   "nbconvert_exporter": "python",
   "pygments_lexer": "ipython3",
   "version": "3.6.9"
  }
 },
 "nbformat": 4,
 "nbformat_minor": 4
}
