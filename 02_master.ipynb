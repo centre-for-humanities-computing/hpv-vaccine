{
 "cells": [
  {
   "cell_type": "markdown",
   "metadata": {},
   "source": [
    "Table of contents: TBA"
   ]
  },
  {
   "cell_type": "markdown",
   "metadata": {},
   "source": [
    "## Removal of giveaway posts\n",
    "\n",
    "a) __Naive Bayes classification__ of FB posts to detect viral marketing.  \n",
    "b) __remove whole threads__ that started with a giveaway post. \n",
    "\n",
    "Before removal: 114,826 documents  \n",
    "After removal: 59,207 documents\n",
    "\n",
    "TODO: hide code"
   ]
  },
  {
   "cell_type": "code",
   "execution_count": 24,
   "metadata": {},
   "outputs": [],
   "source": [
    "import pandas as pd\n",
    "\n",
    "from src.giveaway.GiveawayClassifier import GiveawayClassifier\n",
    "from src.utility.general import export_serialized"
   ]
  },
  {
   "cell_type": "code",
   "execution_count": null,
   "metadata": {},
   "outputs": [],
   "source": [
    "# load in dataset you with to work on\n",
    "df = pd.read_csv(\n",
    "    'data/hpv_data_reactions_copy.csv',\n",
    "    parse_dates = ['time']\n",
    ")"
   ]
  },
  {
   "cell_type": "markdown",
   "metadata": {},
   "source": [
    "Load training data for the classifier (494 documents).  \n",
    "\n",
    "POST-level content found to contain Marie Louise's stopwords.  \n",
    "Hand labeled by one person."
   ]
  },
  {
   "cell_type": "code",
   "execution_count": null,
   "metadata": {},
   "outputs": [],
   "source": [
    "labeled = (pd.read_csv('data/200414_giveaway_training.csv')\n",
    "           # drops 2 rows with a missing label (496 rows in original file)\n",
    "           .dropna(subset=['giveaway']))\n",
    "\n",
    "X = labeled['text']\n",
    "y = labeled['giveaway']"
   ]
  },
  {
   "cell_type": "markdown",
   "metadata": {},
   "source": [
    "Train the Giveaway Classifier."
   ]
  },
  {
   "cell_type": "code",
   "execution_count": null,
   "metadata": {},
   "outputs": [],
   "source": [
    "gc = GiveawayClassifier(X=X, y=y)\n",
    "gc.train()\n",
    "gc.report"
   ]
  },
  {
   "cell_type": "markdown",
   "metadata": {},
   "source": [
    "Classify only POST-level content in the loaded dataset.  \n",
    "The model classifies short comments unreliably."
   ]
  },
  {
   "cell_type": "code",
   "execution_count": null,
   "metadata": {},
   "outputs": [],
   "source": [
    "df_post = df.query('content_type == \"POST\"')\n",
    "\n",
    "giveawas_df = (gc\n",
    "               .predict_new(df_post.text, negative_for_url=True)\n",
    "               .query('predicted == 1')\n",
    "               .rename(columns={'index': 'id_orig'})\n",
    "              )\n",
    "\n",
    "giveawas_df"
   ]
  },
  {
   "cell_type": "markdown",
   "metadata": {},
   "source": [
    "Filter found threads from the original dataset  \n",
    "a) find post_id's that were labeled as a giveaway  \n",
    "b) filter threads with such post ids out  "
   ]
  },
  {
   "cell_type": "code",
   "execution_count": null,
   "metadata": {},
   "outputs": [],
   "source": [
    "bad_threads = df.query('@giveawas_df.id_orig').post_id\n",
    "bad_threads = [num for num in bad_threads]\n",
    "\n",
    "# remove bad threads\n",
    "S1_giveaway_removed = df.query('post_id != @bad_threads')\n",
    "\n",
    "# save whole dataframe\n",
    "S1_giveaway_removed.to_csv('data/S1_giveaway_removed.csv')\n",
    "\n",
    "# save texts with ID\n",
    "export_serialized(\n",
    "    df=S1_giveaway_removed,\n",
    "    column='text',\n",
    "    path='data/S1_fb_texts.ndjson'\n",
    ")"
   ]
  },
  {
   "cell_type": "markdown",
   "metadata": {},
   "source": [
    "<br>\n",
    "\n",
    "## Preprocessing\n",
    "_[text_to_x](https://github.com/centre-for-humanities-computing/text_to_x)_\n",
    "\n",
    "a) __tokens__, __lemmas__, __POS__ & __dependency parsing__ using [Stanza](https://github.com/stanfordnlp/stanza)  \n",
    "b) __NER__ using [Flair](https://github.com/flairNLP/flair)"
   ]
  },
  {
   "cell_type": "markdown",
   "metadata": {},
   "source": [
    "Takes a lot of time to run. \n",
    "It is recommended that you run this part from the terminal.\n",
    "\n",
    "```bash\n",
    "cd hpv-vaccine\n",
    "python3 src/preprocessing.py -p data/S2_text_id.ndjson -o data/S3_prep.ndjson --lang 'da' --jobs 4 --bugstring True\n",
    "```\n"
   ]
  },
  {
   "cell_type": "markdown",
   "metadata": {},
   "source": [
    "<br>\n",
    "\n",
    "## Feature selection \n",
    "\n",
    "a) __Filter out non-meaningful Parts of Speech from all texts__.   \n",
    "Only NOUN, PROP-NOUN, ADJ, VERB and ADVERB will be kept\n",
    "\n",
    "\n",
    "b) __Neural detection of phrases__.  \n",
    "If two tokens appear together often, they will be concatenated into a single token."
   ]
  },
  {
   "cell_type": "code",
   "execution_count": 10,
   "metadata": {},
   "outputs": [],
   "source": [
    "import ndjson\n",
    "\n",
    "from src.utility import phraser\n",
    "from src.utility.general import load_data"
   ]
  },
  {
   "cell_type": "code",
   "execution_count": 12,
   "metadata": {},
   "outputs": [],
   "source": [
    "# import preprocessed data\n",
    "texts_id = load_data('data/S3_prep.ndjson')\n",
    "\n",
    "# phraser has both a) & b) functionality\n",
    "texts_phrased = phraser.train(\n",
    "    texts_id,\n",
    "    lang='da',\n",
    "    out_path='data/S4_fb_phrase.ndjson'\n",
    ")\n",
    "\n",
    "# texts only\n",
    "texts = [doc['text'] for doc in texts_phrased]"
   ]
  },
  {
   "cell_type": "markdown",
   "metadata": {},
   "source": [
    "<br>\n",
    "\n",
    "## Seed selection\n",
    "\n",
    "a) __Train a CBOW model__  \n",
    "To be used for finding related words to query.  \n",
    "Intentions behind the parameters:\n",
    "- words that appear together in the whole FB post (window=20)\n",
    "- frequent words, so that the seeds are generalizable (min_count=100)\n",
    "\n",
    "_comment: potentially this could be taken care of by PmiSvdEmbeddings._\n",
    "\n",
    "b) __Enhance phrase list__  \n",
    "Add synonyms and related words to a given phrase list. This will be used as guide the topic model."
   ]
  },
  {
   "cell_type": "code",
   "execution_count": 14,
   "metadata": {},
   "outputs": [],
   "source": [
    "from gensim.models import Word2Vec, KeyedVectors\n",
    "\n",
    "# from src.embeddings.pmisvd import PmiSvdEmbeddings\n",
    "from src.embeddings.query_ops import import_query, get_related"
   ]
  },
  {
   "cell_type": "code",
   "execution_count": 15,
   "metadata": {},
   "outputs": [
    {
     "name": "stderr",
     "output_type": "stream",
     "text": [
      "2020-08-11 11:43:13 INFO: Loading these models for language: da (Danish):\n",
      "=======================\n",
      "| Processor | Package |\n",
      "-----------------------\n",
      "| tokenize  | ddt     |\n",
      "| pos       | ddt     |\n",
      "| lemma     | ddt     |\n",
      "=======================\n",
      "\n",
      "2020-08-11 11:43:13 INFO: Use device: cpu\n",
      "2020-08-11 11:43:13 INFO: Loading: tokenize\n",
      "2020-08-11 11:43:13 INFO: Loading: pos\n",
      "2020-08-11 11:43:13 INFO: Loading: lemma\n",
      "2020-08-11 11:43:13 INFO: Done loading processors!\n",
      "/home/jan/hpv-vaccine/src/embeddings/query_ops.py:101: SettingWithCopyWarning: \n",
      "A value is trying to be set on a copy of a slice from a DataFrame.\n",
      "Try using .loc[row_indexer,col_indexer] = value instead\n",
      "\n",
      "See the caveats in the documentation: https://pandas.pydata.org/pandas-docs/stable/user_guide/indexing.html#returning-a-view-versus-a-copy\n",
      "  hf_related['similarity'] = round(hf_related['similarity'], 2)\n"
     ]
    }
   ],
   "source": [
    "# import phrase list\n",
    "query_list = import_query(\n",
    "    ordlist_path='data/200729_hpv_query.csv',\n",
    "    lang='da',\n",
    "    col='term'\n",
    ")\n",
    "\n",
    "# train a cbow model\n",
    "cbow_texts = Word2Vec(\n",
    "    texts,\n",
    "    size=100, window=20, min_count=100,\n",
    "    sg=0, hs=0,\n",
    "    iter=500, workers=4\n",
    ")\n",
    "\n",
    "# get a list of words similar to those in the phrase list\n",
    "query_related = get_related(cbow_texts.wv, query_list, topn=10, cutoff=50)\n",
    "\n",
    "# save + display a sample\n",
    "(query_related\n",
    " .to_csv('data/S5_query_related.csv'))"
   ]
  },
  {
   "cell_type": "markdown",
   "metadata": {},
   "source": [
    "Now the seeds have to be __manually redacted__."
   ]
  },
  {
   "cell_type": "markdown",
   "metadata": {},
   "source": [
    "<br>\n",
    "\n",
    "## Topic modeling"
   ]
  },
  {
   "cell_type": "code",
   "execution_count": 7,
   "metadata": {},
   "outputs": [],
   "source": [
    "from src.lda.asymmetric import grid_search_lda_ASM\n",
    "from src.lda.seeded import grid_search_lda_SED\n",
    "from src.utility.general import compile_report"
   ]
  },
  {
   "cell_type": "code",
   "execution_count": 26,
   "metadata": {},
   "outputs": [
    {
     "ename": "KeyError",
     "evalue": "['seed']",
     "output_type": "error",
     "traceback": [
      "\u001b[0;31m---------------------------------------------------------------------------\u001b[0m",
      "\u001b[0;31mKeyError\u001b[0m                                  Traceback (most recent call last)",
      "\u001b[0;32m<ipython-input-26-bad39b0fa860>\u001b[0m in \u001b[0;36m<module>\u001b[0;34m\u001b[0m\n\u001b[1;32m      3\u001b[0m \u001b[0mS5_query_redacted\u001b[0m \u001b[0;34m=\u001b[0m \u001b[0mpd\u001b[0m\u001b[0;34m.\u001b[0m\u001b[0mread_csv\u001b[0m\u001b[0;34m(\u001b[0m\u001b[0;34m'data/S5_query_related.csv'\u001b[0m\u001b[0;34m)\u001b[0m\u001b[0;34m\u001b[0m\u001b[0;34m\u001b[0m\u001b[0m\n\u001b[1;32m      4\u001b[0m seeds = (S5_query_redacted\n\u001b[0;32m----> 5\u001b[0;31m          \u001b[0;34m.\u001b[0m\u001b[0mdropna\u001b[0m\u001b[0;34m(\u001b[0m\u001b[0msubset\u001b[0m\u001b[0;34m=\u001b[0m\u001b[0;34m[\u001b[0m\u001b[0;34m'seed'\u001b[0m\u001b[0;34m]\u001b[0m\u001b[0;34m)\u001b[0m\u001b[0;34m\u001b[0m\u001b[0;34m\u001b[0m\u001b[0m\n\u001b[0m\u001b[1;32m      6\u001b[0m          \u001b[0;34m.\u001b[0m\u001b[0mgroupby\u001b[0m\u001b[0;34m(\u001b[0m\u001b[0;34m'topic'\u001b[0m\u001b[0;34m)\u001b[0m\u001b[0;34m[\u001b[0m\u001b[0;34m'seed'\u001b[0m\u001b[0;34m]\u001b[0m\u001b[0;34m\u001b[0m\u001b[0;34m\u001b[0m\u001b[0m\n\u001b[1;32m      7\u001b[0m          \u001b[0;34m.\u001b[0m\u001b[0mapply\u001b[0m\u001b[0;34m(\u001b[0m\u001b[0mlist\u001b[0m\u001b[0;34m)\u001b[0m\u001b[0;34m\u001b[0m\u001b[0;34m\u001b[0m\u001b[0m\n",
      "\u001b[0;32m~/word-vects/lib/python3.6/site-packages/pandas/core/frame.py\u001b[0m in \u001b[0;36mdropna\u001b[0;34m(self, axis, how, thresh, subset, inplace)\u001b[0m\n\u001b[1;32m   4746\u001b[0m             \u001b[0mcheck\u001b[0m \u001b[0;34m=\u001b[0m \u001b[0mindices\u001b[0m \u001b[0;34m==\u001b[0m \u001b[0;34m-\u001b[0m\u001b[0;36m1\u001b[0m\u001b[0;34m\u001b[0m\u001b[0;34m\u001b[0m\u001b[0m\n\u001b[1;32m   4747\u001b[0m             \u001b[0;32mif\u001b[0m \u001b[0mcheck\u001b[0m\u001b[0;34m.\u001b[0m\u001b[0many\u001b[0m\u001b[0;34m(\u001b[0m\u001b[0;34m)\u001b[0m\u001b[0;34m:\u001b[0m\u001b[0;34m\u001b[0m\u001b[0;34m\u001b[0m\u001b[0m\n\u001b[0;32m-> 4748\u001b[0;31m                 \u001b[0;32mraise\u001b[0m \u001b[0mKeyError\u001b[0m\u001b[0;34m(\u001b[0m\u001b[0mlist\u001b[0m\u001b[0;34m(\u001b[0m\u001b[0mnp\u001b[0m\u001b[0;34m.\u001b[0m\u001b[0mcompress\u001b[0m\u001b[0;34m(\u001b[0m\u001b[0mcheck\u001b[0m\u001b[0;34m,\u001b[0m \u001b[0msubset\u001b[0m\u001b[0;34m)\u001b[0m\u001b[0;34m)\u001b[0m\u001b[0;34m)\u001b[0m\u001b[0;34m\u001b[0m\u001b[0;34m\u001b[0m\u001b[0m\n\u001b[0m\u001b[1;32m   4749\u001b[0m             \u001b[0magg_obj\u001b[0m \u001b[0;34m=\u001b[0m \u001b[0mself\u001b[0m\u001b[0;34m.\u001b[0m\u001b[0mtake\u001b[0m\u001b[0;34m(\u001b[0m\u001b[0mindices\u001b[0m\u001b[0;34m,\u001b[0m \u001b[0maxis\u001b[0m\u001b[0;34m=\u001b[0m\u001b[0magg_axis\u001b[0m\u001b[0;34m)\u001b[0m\u001b[0;34m\u001b[0m\u001b[0;34m\u001b[0m\u001b[0m\n\u001b[1;32m   4750\u001b[0m \u001b[0;34m\u001b[0m\u001b[0m\n",
      "\u001b[0;31mKeyError\u001b[0m: ['seed']"
     ]
    }
   ],
   "source": [
    "# extract topic seeds\n",
    "# HIDE IT SOMEWHERE\n",
    "S5_query_redacted = pd.read_csv('data/S6_query_redacted.csv')\n",
    "seeds = (S5_query_redacted\n",
    "         .dropna(subset=['seed'])\n",
    "         .groupby('topic')['seed']\n",
    "         .apply(list)\n",
    "         .to_frame()\n",
    "         .seed\n",
    "         .tolist())"
   ]
  },
  {
   "cell_type": "markdown",
   "metadata": {},
   "source": [
    "### Seeded LDA"
   ]
  },
  {
   "cell_type": "code",
   "execution_count": null,
   "metadata": {},
   "outputs": [],
   "source": [
    "grid_search_lda_SED(\n",
    "    texts=texts,\n",
    "    seed_topic_list=[], #feed\n",
    "    n_topics_range=[5, 10, 15, 20, 25, 30],\n",
    "    priors_range=[(0.1, 0.01), (0.5, 0.1)], #feed\n",
    "    out_dir='models/200730_seed_no5/',\n",
    "    n_top_words=10,\n",
    "    vectorizer_type='count',\n",
    "    iterations=500,\n",
    "    save_doc_top=True,\n",
    "    verbose=False\n",
    ")"
   ]
  },
  {
   "cell_type": "code",
   "execution_count": null,
   "metadata": {},
   "outputs": [],
   "source": [
    "compile_report('models/test_seeded/report_lines/')"
   ]
  },
  {
   "cell_type": "markdown",
   "metadata": {},
   "source": [
    "### \"Asymmetric\" LDA"
   ]
  },
  {
   "cell_type": "code",
   "execution_count": 16,
   "metadata": {},
   "outputs": [],
   "source": [
    "grid_search_lda_ASM(\n",
    "    texts=texts,\n",
    "    n_topics_range=[5, 10, 15, 20, 25, 30],\n",
    "    iterations=500,\n",
    "    passes=2,\n",
    "    out_dir='models/200811_asm/',\n",
    "    verbose=False,\n",
    "    save_doc_top=True,\n",
    ")"
   ]
  },
  {
   "cell_type": "code",
   "execution_count": 18,
   "metadata": {},
   "outputs": [
    {
     "data": {
      "text/html": [
       "<div>\n",
       "<style scoped>\n",
       "    .dataframe tbody tr th:only-of-type {\n",
       "        vertical-align: middle;\n",
       "    }\n",
       "\n",
       "    .dataframe tbody tr th {\n",
       "        vertical-align: top;\n",
       "    }\n",
       "\n",
       "    .dataframe thead th {\n",
       "        text-align: right;\n",
       "    }\n",
       "</style>\n",
       "<table border=\"1\" class=\"dataframe\">\n",
       "  <thead>\n",
       "    <tr style=\"text-align: right;\">\n",
       "      <th></th>\n",
       "      <th>model</th>\n",
       "      <th>n_top</th>\n",
       "      <th>alpha</th>\n",
       "      <th>eta</th>\n",
       "      <th>training_time</th>\n",
       "      <th>coh_score</th>\n",
       "      <th>coh_topic</th>\n",
       "    </tr>\n",
       "  </thead>\n",
       "  <tbody>\n",
       "    <tr>\n",
       "      <th>0</th>\n",
       "      <td>5T_ASM</td>\n",
       "      <td>5</td>\n",
       "      <td>[0.21222230792045593, 0.6326810717582703, 1.16...</td>\n",
       "      <td>[8.239446640014648, 3.691840648651123, 1.27305...</td>\n",
       "      <td>22.602810</td>\n",
       "      <td>0.512433</td>\n",
       "      <td>[0.41975814144694273, 0.6035394996919792, 0.55...</td>\n",
       "    </tr>\n",
       "    <tr>\n",
       "      <th>1</th>\n",
       "      <td>10T_ASM</td>\n",
       "      <td>10</td>\n",
       "      <td>[0.8251640200614929, 0.14950509369373322, 0.05...</td>\n",
       "      <td>[0.27749359607696533, 0.3539278507232666, 0.16...</td>\n",
       "      <td>24.408235</td>\n",
       "      <td>0.482693</td>\n",
       "      <td>[0.5898778488018219, 0.33301404058971595, 0.54...</td>\n",
       "    </tr>\n",
       "    <tr>\n",
       "      <th>2</th>\n",
       "      <td>15T_ASM</td>\n",
       "      <td>15</td>\n",
       "      <td>[0.139406219124794, 0.08482097089290619, 0.075...</td>\n",
       "      <td>[0.21338166296482086, 0.3552437126636505, 0.10...</td>\n",
       "      <td>25.729340</td>\n",
       "      <td>0.452854</td>\n",
       "      <td>[0.6071159311373029, 0.33946731414466275, 0.25...</td>\n",
       "    </tr>\n",
       "    <tr>\n",
       "      <th>3</th>\n",
       "      <td>25T_ASM</td>\n",
       "      <td>25</td>\n",
       "      <td>[0.08592333644628525, 0.057619400322437286, 0....</td>\n",
       "      <td>[0.05525301396846771, 0.08396890014410019, 0.0...</td>\n",
       "      <td>29.371126</td>\n",
       "      <td>0.409234</td>\n",
       "      <td>[0.47739644112148233, 0.26070581603274945, 0.3...</td>\n",
       "    </tr>\n",
       "    <tr>\n",
       "      <th>4</th>\n",
       "      <td>20T_ASM</td>\n",
       "      <td>20</td>\n",
       "      <td>[0.06974601000547409, 0.05858924984931946, 0.0...</td>\n",
       "      <td>[0.08188818395137787, 0.09149575233459473, 0.0...</td>\n",
       "      <td>27.228027</td>\n",
       "      <td>0.391767</td>\n",
       "      <td>[0.3563420427449716, 0.2563456794991608, 0.251...</td>\n",
       "    </tr>\n",
       "    <tr>\n",
       "      <th>5</th>\n",
       "      <td>30T_ASM</td>\n",
       "      <td>30</td>\n",
       "      <td>[0.05350644141435623, 0.0893891230225563, 0.04...</td>\n",
       "      <td>[0.03923603892326355, 0.04739493131637573, 0.0...</td>\n",
       "      <td>32.591976</td>\n",
       "      <td>0.390904</td>\n",
       "      <td>[0.2390997313596967, 0.5861149647371491, 0.307...</td>\n",
       "    </tr>\n",
       "  </tbody>\n",
       "</table>\n",
       "</div>"
      ],
      "text/plain": [
       "     model  n_top                                              alpha  \\\n",
       "0   5T_ASM      5  [0.21222230792045593, 0.6326810717582703, 1.16...   \n",
       "1  10T_ASM     10  [0.8251640200614929, 0.14950509369373322, 0.05...   \n",
       "2  15T_ASM     15  [0.139406219124794, 0.08482097089290619, 0.075...   \n",
       "3  25T_ASM     25  [0.08592333644628525, 0.057619400322437286, 0....   \n",
       "4  20T_ASM     20  [0.06974601000547409, 0.05858924984931946, 0.0...   \n",
       "5  30T_ASM     30  [0.05350644141435623, 0.0893891230225563, 0.04...   \n",
       "\n",
       "                                                 eta  training_time  \\\n",
       "0  [8.239446640014648, 3.691840648651123, 1.27305...      22.602810   \n",
       "1  [0.27749359607696533, 0.3539278507232666, 0.16...      24.408235   \n",
       "2  [0.21338166296482086, 0.3552437126636505, 0.10...      25.729340   \n",
       "3  [0.05525301396846771, 0.08396890014410019, 0.0...      29.371126   \n",
       "4  [0.08188818395137787, 0.09149575233459473, 0.0...      27.228027   \n",
       "5  [0.03923603892326355, 0.04739493131637573, 0.0...      32.591976   \n",
       "\n",
       "   coh_score                                          coh_topic  \n",
       "0   0.512433  [0.41975814144694273, 0.6035394996919792, 0.55...  \n",
       "1   0.482693  [0.5898778488018219, 0.33301404058971595, 0.54...  \n",
       "2   0.452854  [0.6071159311373029, 0.33946731414466275, 0.25...  \n",
       "3   0.409234  [0.47739644112148233, 0.26070581603274945, 0.3...  \n",
       "4   0.391767  [0.3563420427449716, 0.2563456794991608, 0.251...  \n",
       "5   0.390904  [0.2390997313596967, 0.5861149647371491, 0.307...  "
      ]
     },
     "execution_count": 18,
     "metadata": {},
     "output_type": "execute_result"
    }
   ],
   "source": [
    "compile_report('models/200811_asm/report_lines/')"
   ]
  },
  {
   "cell_type": "markdown",
   "metadata": {},
   "source": [
    "<br>\n",
    "\n",
    "## Model evolution"
   ]
  },
  {
   "cell_type": "code",
   "execution_count": 1,
   "metadata": {},
   "outputs": [],
   "source": [
    "import src.topicevolution.run_ntr as ntr "
   ]
  },
  {
   "cell_type": "code",
   "execution_count": 19,
   "metadata": {},
   "outputs": [],
   "source": [
    "import ndjson\n",
    "\n",
    "with open('models/200811_asm/doctop_mats/10T_ASM_mat.ndjson') as f:\n",
    "    doctop = ndjson.load(f)\n",
    "\n",
    "with open('data/S2_text_id.ndjson') as f:\n",
    "    ids = ndjson.load(f)"
   ]
  },
  {
   "cell_type": "code",
   "execution_count": 21,
   "metadata": {},
   "outputs": [
    {
     "data": {
      "text/plain": [
       "59207"
      ]
     },
     "execution_count": 21,
     "metadata": {},
     "output_type": "execute_result"
    }
   ],
   "source": [
    "len(ids)"
   ]
  },
  {
   "cell_type": "code",
   "execution_count": 29,
   "metadata": {},
   "outputs": [
    {
     "data": {
      "text/plain": [
       "51925"
      ]
     },
     "execution_count": 29,
     "metadata": {},
     "output_type": "execute_result"
    }
   ],
   "source": [
    "len(doctop)"
   ]
  },
  {
   "cell_type": "markdown",
   "metadata": {},
   "source": [
    "<br>"
   ]
  },
  {
   "cell_type": "code",
   "execution_count": null,
   "metadata": {},
   "outputs": [],
   "source": [
    "import pandas as pd\n",
    "dt_df = pd.DataFrame(doctop)"
   ]
  },
  {
   "cell_type": "code",
   "execution_count": null,
   "metadata": {},
   "outputs": [],
   "source": [
    "dt_df.to_csv('10T_ASM_mat.csv')"
   ]
  },
  {
   "cell_type": "code",
   "execution_count": null,
   "metadata": {},
   "outputs": [],
   "source": [
    "ntr.kz(dt_df[0], window=3, iterations=2)"
   ]
  },
  {
   "cell_type": "code",
   "execution_count": null,
   "metadata": {},
   "outputs": [],
   "source": [
    "with open('data/S1_fb_texts.ndjson') as f:\n",
    "    tid = ndjson.load(f)"
   ]
  },
  {
   "cell_type": "code",
   "execution_count": 28,
   "metadata": {},
   "outputs": [],
   "source": [
    "ids = [doc['ID'] for doc in ids]"
   ]
  },
  {
   "cell_type": "code",
   "execution_count": 32,
   "metadata": {},
   "outputs": [],
   "source": [
    "ntr.calculate_ntr(\n",
    "    doc_top_prob=doctop,\n",
    "    ID=range(51925),\n",
    "    window=[200],\n",
    "    out_dir='models/200811_asm/10T_ASM/'\n",
    ")"
   ]
  },
  {
   "cell_type": "markdown",
   "metadata": {},
   "source": [
    "<br>\n",
    "\n",
    "## Topic usage"
   ]
  },
  {
   "cell_type": "code",
   "execution_count": null,
   "metadata": {},
   "outputs": [],
   "source": []
  }
 ],
 "metadata": {
  "kernelspec": {
   "display_name": "word-vects",
   "language": "python",
   "name": "word-vects"
  },
  "language_info": {
   "codemirror_mode": {
    "name": "ipython",
    "version": 3
   },
   "file_extension": ".py",
   "mimetype": "text/x-python",
   "name": "python",
   "nbconvert_exporter": "python",
   "pygments_lexer": "ipython3",
   "version": "3.6.9"
  }
 },
 "nbformat": 4,
 "nbformat_minor": 4
}
