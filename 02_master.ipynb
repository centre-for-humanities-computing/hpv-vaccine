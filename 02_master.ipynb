{
 "cells": [
  {
   "cell_type": "markdown",
   "metadata": {},
   "source": [
    "Table of contents: TBA"
   ]
  },
  {
   "cell_type": "markdown",
   "metadata": {},
   "source": [
    "## Removal of giveaway posts\n",
    "\n",
    "a) __Naive Bayes classification__ of FB posts to detect viral marketing.  \n",
    "b) __remove whole threads__ that started with a giveaway post. \n",
    "\n",
    "Before removal: 114,826 documents  \n",
    "After removal: 59,207 documents\n",
    "\n",
    "TODO: hide code"
   ]
  },
  {
   "cell_type": "code",
   "execution_count": null,
   "metadata": {},
   "outputs": [],
   "source": [
    "import pandas as pd\n",
    "\n",
    "from src.giveaway.GiveawayClassifier import GiveawayClassifier\n",
    "from src.utility.general import export_serialized"
   ]
  },
  {
   "cell_type": "code",
   "execution_count": null,
   "metadata": {},
   "outputs": [],
   "source": [
    "# load in dataset you with to work on\n",
    "df = pd.read_csv(\n",
    "    'data/hpv_data_reactions_copy.csv',\n",
    "    parse_dates = ['time']\n",
    ")"
   ]
  },
  {
   "cell_type": "markdown",
   "metadata": {},
   "source": [
    "Load training data for the classifier (494 documents).  \n",
    "\n",
    "POST-level content found to contain Marie Louise's stopwords.  \n",
    "Hand labeled by one person."
   ]
  },
  {
   "cell_type": "code",
   "execution_count": null,
   "metadata": {},
   "outputs": [],
   "source": [
    "labeled = (pd.read_csv('data/200414_giveaway_training.csv')\n",
    "           # drops 2 rows with a missing label (496 rows in original file)\n",
    "           .dropna(subset=['giveaway']))\n",
    "\n",
    "X = labeled['text']\n",
    "y = labeled['giveaway']"
   ]
  },
  {
   "cell_type": "markdown",
   "metadata": {},
   "source": [
    "Train the Giveaway Classifier."
   ]
  },
  {
   "cell_type": "code",
   "execution_count": null,
   "metadata": {},
   "outputs": [],
   "source": [
    "gc = GiveawayClassifier(X=X, y=y)\n",
    "gc.train()\n",
    "gc.report"
   ]
  },
  {
   "cell_type": "markdown",
   "metadata": {},
   "source": [
    "Classify only POST-level content in the loaded dataset.  \n",
    "The model classifies short comments unreliably."
   ]
  },
  {
   "cell_type": "code",
   "execution_count": null,
   "metadata": {},
   "outputs": [],
   "source": [
    "df_post = df.query('content_type == \"POST\"')\n",
    "\n",
    "giveawas_df = (gc\n",
    "               .predict_new(df_post.text, negative_for_url=True)\n",
    "               .query('predicted == 1')\n",
    "               .rename(columns={'index': 'id_orig'})\n",
    "              )\n",
    "\n",
    "giveawas_df"
   ]
  },
  {
   "cell_type": "markdown",
   "metadata": {},
   "source": [
    "Filter found threads from the original dataset  \n",
    "a) find post_id's that were labeled as a giveaway  \n",
    "b) filter threads with such post ids out  "
   ]
  },
  {
   "cell_type": "code",
   "execution_count": null,
   "metadata": {},
   "outputs": [],
   "source": [
    "bad_threads = df.query('@giveawas_df.id_orig').post_id\n",
    "bad_threads = [num for num in bad_threads]\n",
    "\n",
    "# remove bad threads\n",
    "S1_giveaway_removed = df.query('post_id != @bad_threads')\n",
    "\n",
    "# save whole dataframe\n",
    "S1_giveaway_removed.to_csv('data/S1_giveaway_removed.csv')\n",
    "\n",
    "# save texts with ID\n",
    "export_serialized(\n",
    "    df=S1_giveaway_removed,\n",
    "    column='text',\n",
    "    path='data/S1_fb_texts.ndjson'\n",
    ")"
   ]
  },
  {
   "cell_type": "markdown",
   "metadata": {},
   "source": [
    "<br>\n",
    "\n",
    "## Preprocessing\n",
    "_[text_to_x](https://github.com/centre-for-humanities-computing/text_to_x)_\n",
    "\n",
    "a) __tokens__, __lemmas__, __POS__ & __dependency parsing__ using [Stanza](https://github.com/stanfordnlp/stanza)  \n",
    "b) __NER__ using [Flair](https://github.com/flairNLP/flair)"
   ]
  },
  {
   "cell_type": "markdown",
   "metadata": {},
   "source": [
    "Takes a lot of time to run. \n",
    "It is recommended that you run this part from the terminal.\n",
    "\n",
    "```bash\n",
    "cd hpv-vaccine\n",
    "python3 src/preprocessing.py -p data/S1_fb_texts.ndjson -o data/S2_fb_prep.ndjson --lang 'da' --jobs 4\n",
    "```\n"
   ]
  },
  {
   "cell_type": "markdown",
   "metadata": {},
   "source": [
    "<br>\n",
    "\n",
    "## Feature selection \n",
    "\n",
    "a) __Filter out non-meaningful Parts of Speech from all texts__.   \n",
    "Only NOUN, PROP-NOUN, ADJ, VERB and ADVERB will be kept\n",
    "\n",
    "\n",
    "b) __Neural detection of phrases__.  \n",
    "If two tokens appear together often, they will be concatenated into a single token."
   ]
  },
  {
   "cell_type": "code",
   "execution_count": null,
   "metadata": {},
   "outputs": [],
   "source": [
    "import ndjson\n",
    "\n",
    "from src.utility import phraser\n",
    "from src.utility.general import load_data"
   ]
  },
  {
   "cell_type": "code",
   "execution_count": null,
   "metadata": {},
   "outputs": [],
   "source": [
    "# import preprocessed data\n",
    "texts_id = load_data('data/S3_prep_NO5.ndjson')\n",
    "\n",
    "# phraser has both a) & b) functionality\n",
    "texts_phrased = phraser.train(\n",
    "    texts_id,\n",
    "    lang='da',\n",
    "    out_path='data/S3_fb_phrase.ndjson'\n",
    ")\n",
    "\n",
    "# texts only\n",
    "texts = [doc['text'] for doc in texts_phrased]"
   ]
  },
  {
   "cell_type": "markdown",
   "metadata": {},
   "source": [
    "<br>\n",
    "\n",
    "## Seed selection\n",
    "\n",
    "a) __Train a CBOW model__  \n",
    "To be used for finding related words to query.  \n",
    "Intentions behind the parameters:\n",
    "- words that appear together in the whole FB post (window=20)\n",
    "- frequent words, so that the seeds are generalizable (min_count=100)\n",
    "\n",
    "_comment: potentially this could be taken care of by PmiSvdEmbeddings._\n",
    "\n",
    "b) __Enhance phrase list__  \n",
    "Add synonyms and related words to a given phrase list. This will be used as guide the topic model."
   ]
  },
  {
   "cell_type": "code",
   "execution_count": null,
   "metadata": {},
   "outputs": [],
   "source": [
    "from gensim.models import Word2Vec, KeyedVectors\n",
    "\n",
    "# from src.embeddings.pmisvd import PmiSvdEmbeddings\n",
    "from src.embeddings.query_ops import import_query, get_related"
   ]
  },
  {
   "cell_type": "code",
   "execution_count": null,
   "metadata": {},
   "outputs": [],
   "source": [
    "# import phrase list\n",
    "query_list = import_query(\n",
    "    ordlist_path='data/200729_hpv_query.csv',\n",
    "    lang='da',\n",
    "    col='term'\n",
    ")\n",
    "\n",
    "# train a cbow model\n",
    "cbow_texts = Word2Vec(\n",
    "    texts,\n",
    "    size=100, window=20, min_count=100,\n",
    "    sg=0, hs=0,\n",
    "    iter=500, workers=4\n",
    ")\n",
    "\n",
    "# get a list of words similar to those in the phrase list\n",
    "query_related = get_related(cbow_texts.wv, query_list, topn=10, cutoff=50)\n",
    "\n",
    "# save + display a sample\n",
    "(query_related\n",
    " .to_csv('data/S4_query_related.csv'))"
   ]
  },
  {
   "cell_type": "markdown",
   "metadata": {},
   "source": [
    "Now the seeds have to be __manually redacted__."
   ]
  },
  {
   "cell_type": "markdown",
   "metadata": {},
   "source": [
    "<br>\n",
    "\n",
    "## Topic modeling"
   ]
  },
  {
   "cell_type": "code",
   "execution_count": null,
   "metadata": {},
   "outputs": [],
   "source": [
    "from src.lda.asymmetric import grid_search_lda_ASM\n",
    "from src.lda.seeded import grid_search_lda_SED\n",
    "from src.utility.general import compile_report"
   ]
  },
  {
   "cell_type": "code",
   "execution_count": null,
   "metadata": {},
   "outputs": [],
   "source": [
    "# extract topic seeds\n",
    "# HIDE IT SOMEWHERE\n",
    "S5_query_redacted = pd.read_csv('data/S5_query_redacted.csv')\n",
    "seeds = (S5_query_redacted\n",
    "         .dropna(subset=['seed'])\n",
    "         .groupby('topic')['seed']\n",
    "         .apply(list)\n",
    "         .to_frame()\n",
    "         .seed\n",
    "         .tolist())"
   ]
  },
  {
   "cell_type": "code",
   "execution_count": null,
   "metadata": {},
   "outputs": [],
   "source": [
    "grid_search_lda_SED(\n",
    "    texts=texts,\n",
    "    seed_topic_list=[], #feed\n",
    "    n_topics_range=[5, 10, 15, 20, 25, 30],\n",
    "    priors_range=[(0.1, 0.01), (0.5, 0.1)], #feed\n",
    "    out_dir='models/200730_seed_no5/',\n",
    "    n_top_words=10,\n",
    "    vectorizer_type='count',\n",
    "    iterations=500,\n",
    "    save_doc_top=True,\n",
    "    verbose=False\n",
    ")"
   ]
  },
  {
   "cell_type": "code",
   "execution_count": null,
   "metadata": {},
   "outputs": [],
   "source": [
    "compile_report('models/test_seeded/report_lines/')"
   ]
  },
  {
   "cell_type": "code",
   "execution_count": null,
   "metadata": {},
   "outputs": [],
   "source": [
    "grid_search_lda_ASM(\n",
    "    texts=texts,\n",
    "    n_topics_range=[5, 10, 15, 20, 25, 30],\n",
    "    iterations=500,\n",
    "    passes=2,\n",
    "    out_dir='models/200730_asm_no5/',\n",
    "    verbose=False,\n",
    "    save_doc_top=True,\n",
    ")"
   ]
  },
  {
   "cell_type": "code",
   "execution_count": null,
   "metadata": {},
   "outputs": [],
   "source": [
    "compile_report('models/200730_asm_no5/report_lines/')"
   ]
  },
  {
   "cell_type": "markdown",
   "metadata": {},
   "source": [
    "<br>\n",
    "\n",
    "## Model evolution"
   ]
  },
  {
   "cell_type": "code",
   "execution_count": null,
   "metadata": {},
   "outputs": [],
   "source": [
    "import src.topicevolution.run_ntr as ntr "
   ]
  },
  {
   "cell_type": "code",
   "execution_count": null,
   "metadata": {},
   "outputs": [],
   "source": [
    "import ndjson\n",
    "with open('models/200730_asm_no5/doctop_mats/10T_ASM_mat.ndjson') as f:\n",
    "    doctop = ndjson.load(f)"
   ]
  },
  {
   "cell_type": "code",
   "execution_count": null,
   "metadata": {},
   "outputs": [],
   "source": [
    "import pandas as pd\n",
    "dt_df = pd.DataFrame(doctop)"
   ]
  },
  {
   "cell_type": "code",
   "execution_count": null,
   "metadata": {},
   "outputs": [],
   "source": [
    "dt_df.to_csv('10T_ASM_mat.csv')"
   ]
  },
  {
   "cell_type": "code",
   "execution_count": null,
   "metadata": {},
   "outputs": [],
   "source": [
    "ntr.kz(dt_df[0], window=3, iterations=2)"
   ]
  },
  {
   "cell_type": "code",
   "execution_count": null,
   "metadata": {},
   "outputs": [],
   "source": [
    "with open('data/S1_fb_texts.ndjson') as f:\n",
    "    tid = ndjson.load(f)"
   ]
  },
  {
   "cell_type": "code",
   "execution_count": null,
   "metadata": {},
   "outputs": [],
   "source": [
    "ids = [doc['ID'] for doc in tid]"
   ]
  },
  {
   "cell_type": "code",
   "execution_count": null,
   "metadata": {},
   "outputs": [],
   "source": [
    "ntr.calculate_ntr(\n",
    "    doc_top_prob=doctop,\n",
    "    ID=range(49892),\n",
    "    window=[10, 50, 100],\n",
    "    out_dir='models/200730_asm_no5/10T_ASM/'\n",
    ")"
   ]
  },
  {
   "cell_type": "markdown",
   "metadata": {},
   "source": [
    "<br>\n",
    "\n",
    "## Topic usage"
   ]
  },
  {
   "cell_type": "code",
   "execution_count": null,
   "metadata": {},
   "outputs": [],
   "source": []
  }
 ],
 "metadata": {
  "kernelspec": {
   "display_name": "word-vects",
   "language": "python",
   "name": "word-vects"
  },
  "language_info": {
   "codemirror_mode": {
    "name": "ipython",
    "version": 3
   },
   "file_extension": ".py",
   "mimetype": "text/x-python",
   "name": "python",
   "nbconvert_exporter": "python",
   "pygments_lexer": "ipython3",
   "version": "3.6.9"
  }
 },
 "nbformat": 4,
 "nbformat_minor": 4
}
