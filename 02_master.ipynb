{
 "cells": [
  {
   "cell_type": "markdown",
   "metadata": {},
   "source": [
    "input: preprocessed ndjson from ttx with giveaways removed"
   ]
  },
  {
   "cell_type": "markdown",
   "metadata": {},
   "source": [
    "## Feature selection \n",
    "\n",
    "a) __Filter out non-meaningful Parts of Speech from all texts__.   \n",
    "Only NOUN, PROP-NOUN, ADJ, VERB and ADVERB will be kept\n",
    "\n",
    "\n",
    "b) __Neural detection of phrases__.  \n",
    "If two tokens appear together often, they will be concatenated into a single token."
   ]
  },
  {
   "cell_type": "code",
   "execution_count": null,
   "metadata": {},
   "outputs": [],
   "source": [
    "import pandas as pd\n",
    "import ndjson\n",
    "\n",
    "from src.utility import phraser\n",
    "from src.utility.general import load_data"
   ]
  },
  {
   "cell_type": "code",
   "execution_count": null,
   "metadata": {},
   "outputs": [],
   "source": [
    "# import preprocessed data\n",
    "texts = load_data('fb_prep.ndjson')\n",
    "\n",
    "# phraser has both a) & b) functionality\n",
    "texts_phrased = phraser.train(texts)\n",
    "\n",
    "# display a sample\n"
   ]
  },
  {
   "cell_type": "markdown",
   "metadata": {},
   "source": [
    "## Seed selection\n",
    "\n",
    "a) __Train a CBOW model__  \n",
    "To be used for finding related words to query.  \n",
    "Intentions behind the parameters:\n",
    "- words that appear together in the whole FB post (window=20)\n",
    "- frequent words, so that the seeds are generalizable (min_count=100)\n",
    "\n",
    "_comment: potentially this could be taken care of by PmiSvdEmbeddings._\n",
    "\n",
    "b) __Enhance phrase list__  \n",
    "Add synonyms and related words to a given phrase list. This will be used as guide the topic model."
   ]
  },
  {
   "cell_type": "code",
   "execution_count": null,
   "metadata": {},
   "outputs": [],
   "source": [
    "from gensim.models import Word2Vec, KeyedVectors\n",
    "\n",
    "# from src.embeddings.pmisvd import PmiSvdEmbeddings\n",
    "from src.embeddings.query_ops import import_query, get_related"
   ]
  },
  {
   "cell_type": "code",
   "execution_count": null,
   "metadata": {},
   "outputs": [],
   "source": [
    "# import phrase list\n",
    "query_list = import_query('path.csv')\n",
    "\n",
    "# train a cbow model\n",
    "cbow_texts = Word2Vec(text_phrased,\n",
    "                      size=300, window=20, min_count=100,\n",
    "                      sg=0, hs=0,\n",
    "                      iter=500, workers=4)\n",
    "\n",
    "# get a list of words similar to those in the phrase list\n",
    "query_related = get_related(cbow_texts.wv, query_list, topn=10, cutoff=100)\n",
    "\n",
    "# save + display a sample\n",
    "(query_related\n",
    " .to_csv('path.csv')\n",
    " .head())"
   ]
  },
  {
   "cell_type": "markdown",
   "metadata": {},
   "source": [
    "Now the seeds have to be manually redacted."
   ]
  },
  {
   "cell_type": "markdown",
   "metadata": {},
   "source": [
    "## Topic modeling"
   ]
  },
  {
   "cell_type": "code",
   "execution_count": null,
   "metadata": {},
   "outputs": [],
   "source": [
    "from src.lda.asymmetric import lda_grid_search_ASM\n",
    "from src.lda.seeded import lda_grid_search_SED"
   ]
  }
 ],
 "metadata": {
  "kernelspec": {
   "display_name": "word-vects",
   "language": "python",
   "name": "word-vects"
  },
  "language_info": {
   "codemirror_mode": {
    "name": "ipython",
    "version": 3
   },
   "file_extension": ".py",
   "mimetype": "text/x-python",
   "name": "python",
   "nbconvert_exporter": "python",
   "pygments_lexer": "ipython3",
   "version": "3.6.9"
  }
 },
 "nbformat": 4,
 "nbformat_minor": 4
}
