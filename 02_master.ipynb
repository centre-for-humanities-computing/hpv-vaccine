{
 "cells": [
  {
   "cell_type": "markdown",
   "metadata": {},
   "source": [
    "Table of contents: TBA"
   ]
  },
  {
   "cell_type": "markdown",
   "metadata": {},
   "source": [
    "## Removal of giveaway posts\n",
    "\n",
    "a) __Naive Bayes classification__ of FB posts to detect viral marketing.  \n",
    "b) __remove whole threads__ that started with a giveaway post. \n",
    "\n",
    "Before removal: 114,826 documents  \n",
    "After removal: 59,207 documents\n",
    "\n",
    "TODO: hide code"
   ]
  },
  {
   "cell_type": "code",
   "execution_count": null,
   "metadata": {},
   "outputs": [],
   "source": [
    "import pandas as pd\n",
    "\n",
    "from src.giveaway.GiveawayClassifier import GiveawayClassifier\n",
    "from src.utility.general import export_serialized"
   ]
  },
  {
   "cell_type": "code",
   "execution_count": null,
   "metadata": {},
   "outputs": [],
   "source": [
    "# load in dataset you with to work on\n",
    "df = pd.read_csv(\n",
    "    'data/hpv_data_reactions_copy.csv',\n",
    "    parse_dates = ['time']\n",
    ")"
   ]
  },
  {
   "cell_type": "markdown",
   "metadata": {},
   "source": [
    "Load training data for the classifier (494 documents).  \n",
    "\n",
    "POST-level content found to contain Marie Louise's stopwords.  \n",
    "Hand labeled by one person."
   ]
  },
  {
   "cell_type": "code",
   "execution_count": null,
   "metadata": {},
   "outputs": [],
   "source": [
    "labeled = (pd.read_csv('data/200414_giveaway_training.csv')\n",
    "           # drops 2 rows with a missing label (496 rows in original file)\n",
    "           .dropna(subset=['giveaway']))\n",
    "\n",
    "X = labeled['text']\n",
    "y = labeled['giveaway']"
   ]
  },
  {
   "cell_type": "markdown",
   "metadata": {},
   "source": [
    "Train the Giveaway Classifier."
   ]
  },
  {
   "cell_type": "code",
   "execution_count": null,
   "metadata": {},
   "outputs": [],
   "source": [
    "gc = GiveawayClassifier(X=X, y=y)\n",
    "gc.train()\n",
    "gc.report"
   ]
  },
  {
   "cell_type": "markdown",
   "metadata": {},
   "source": [
    "Classify only POST-level content in the loaded dataset.  \n",
    "The model classifies short comments unreliably."
   ]
  },
  {
   "cell_type": "code",
   "execution_count": null,
   "metadata": {},
   "outputs": [],
   "source": [
    "df_post = df.query('content_type == \"POST\"')\n",
    "\n",
    "giveawas_df = (gc\n",
    "               .predict_new(df_post.text, negative_for_url=True)\n",
    "               .query('predicted == 1')\n",
    "               .rename(columns={'index': 'id_orig'})\n",
    "              )\n",
    "\n",
    "giveawas_df"
   ]
  },
  {
   "cell_type": "markdown",
   "metadata": {},
   "source": [
    "Filter found threads from the original dataset  \n",
    "a) find post_id's that were labeled as a giveaway  \n",
    "b) filter threads with such post ids out  "
   ]
  },
  {
   "cell_type": "code",
   "execution_count": null,
   "metadata": {},
   "outputs": [],
   "source": [
    "bad_threads = df.query('@giveawas_df.id_orig').post_id\n",
    "bad_threads = [num for num in bad_threads]\n",
    "\n",
    "# remove bad threads\n",
    "S1_giveaway_removed = df.query('post_id != @bad_threads')\n",
    "\n",
    "# save whole dataframe\n",
    "S1_giveaway_removed.to_csv('data/S1_giveaway_removed.csv')\n",
    "\n",
    "# save texts with ID\n",
    "export_serialized(\n",
    "    df=S1_giveaway_removed,\n",
    "    column='text',\n",
    "    path='data/S1_fb_texts.ndjson'\n",
    ")"
   ]
  },
  {
   "cell_type": "markdown",
   "metadata": {},
   "source": [
    "<br>\n",
    "\n",
    "## Preprocessing\n",
    "_[text_to_x](https://github.com/centre-for-humanities-computing/text_to_x)_\n",
    "\n",
    "a) __tokens__, __lemmas__, __POS__ & __dependency parsing__ using [Stanza](https://github.com/stanfordnlp/stanza)  \n",
    "b) __NER__ using [Flair](https://github.com/flairNLP/flair)"
   ]
  },
  {
   "cell_type": "markdown",
   "metadata": {},
   "source": [
    "Takes a lot of time to run. \n",
    "It is recommended that you run this part from the terminal.\n",
    "\n",
    "```bash\n",
    "cd hpv-vaccine\n",
    "python3 src/preprocessing.py -p data/S1_fb_texts.ndjson -o data/S2_fb_prep.ndjson --lang 'da' --jobs 4\n",
    "```\n"
   ]
  },
  {
   "cell_type": "markdown",
   "metadata": {},
   "source": [
    "<br>\n",
    "\n",
    "## Feature selection \n",
    "\n",
    "a) __Filter out non-meaningful Parts of Speech from all texts__.   \n",
    "Only NOUN, PROP-NOUN, ADJ, VERB and ADVERB will be kept\n",
    "\n",
    "\n",
    "b) __Neural detection of phrases__.  \n",
    "If two tokens appear together often, they will be concatenated into a single token."
   ]
  },
  {
   "cell_type": "code",
   "execution_count": 1,
   "metadata": {},
   "outputs": [],
   "source": [
    "import ndjson\n",
    "\n",
    "from src.utility import phraser\n",
    "from src.utility.general import load_data"
   ]
  },
  {
   "cell_type": "code",
   "execution_count": 2,
   "metadata": {},
   "outputs": [],
   "source": [
    "# import preprocessed data\n",
    "texts_id = load_data('data/S3_test.ndjson')\n",
    "\n",
    "# phraser has both a) & b) functionality\n",
    "texts_phrased = phraser.train(\n",
    "    texts_id,\n",
    "    lang='da',\n",
    "    out_path='data/S3_fb_phrase.ndjson'\n",
    ")\n",
    "\n",
    "# texts only\n",
    "texts = [doc['text'] for doc in texts_phrased]"
   ]
  },
  {
   "cell_type": "markdown",
   "metadata": {},
   "source": [
    "<br>\n",
    "\n",
    "## Seed selection\n",
    "\n",
    "a) __Train a CBOW model__  \n",
    "To be used for finding related words to query.  \n",
    "Intentions behind the parameters:\n",
    "- words that appear together in the whole FB post (window=20)\n",
    "- frequent words, so that the seeds are generalizable (min_count=100)\n",
    "\n",
    "_comment: potentially this could be taken care of by PmiSvdEmbeddings._\n",
    "\n",
    "b) __Enhance phrase list__  \n",
    "Add synonyms and related words to a given phrase list. This will be used as guide the topic model."
   ]
  },
  {
   "cell_type": "code",
   "execution_count": 3,
   "metadata": {},
   "outputs": [],
   "source": [
    "from gensim.models import Word2Vec, KeyedVectors\n",
    "\n",
    "# from src.embeddings.pmisvd import PmiSvdEmbeddings\n",
    "from src.embeddings.query_ops import import_query, get_related"
   ]
  },
  {
   "cell_type": "code",
   "execution_count": 4,
   "metadata": {},
   "outputs": [
    {
     "name": "stderr",
     "output_type": "stream",
     "text": [
      "2020-07-29 16:53:15 INFO: Loading these models for language: da (Danish):\n",
      "=======================\n",
      "| Processor | Package |\n",
      "-----------------------\n",
      "| tokenize  | ddt     |\n",
      "| pos       | ddt     |\n",
      "| lemma     | ddt     |\n",
      "=======================\n",
      "\n",
      "2020-07-29 16:53:15 INFO: Use device: cpu\n",
      "2020-07-29 16:53:15 INFO: Loading: tokenize\n",
      "2020-07-29 16:53:15 INFO: Loading: pos\n",
      "2020-07-29 16:53:16 INFO: Loading: lemma\n",
      "2020-07-29 16:53:16 INFO: Done loading processors!\n"
     ]
    }
   ],
   "source": [
    "query_list = import_query('data/200729_hpv_query.csv', 'da', 'svimmel')"
   ]
  },
  {
   "cell_type": "code",
   "execution_count": 5,
   "metadata": {},
   "outputs": [
    {
     "name": "stderr",
     "output_type": "stream",
     "text": [
      "2020-07-29 16:53:19 WARNING: consider setting layer size to a multiple of 4 for greater performance\n",
      "/home/jan/hpv-vaccine/src/embeddings/query_ops.py:101: SettingWithCopyWarning: \n",
      "A value is trying to be set on a copy of a slice from a DataFrame.\n",
      "Try using .loc[row_indexer,col_indexer] = value instead\n",
      "\n",
      "See the caveats in the documentation: https://pandas.pydata.org/pandas-docs/stable/user_guide/indexing.html#returning-a-view-versus-a-copy\n",
      "  hf_related['similarity'] = round(hf_related['similarity'], 2)\n"
     ]
    },
    {
     "data": {
      "text/html": [
       "<div>\n",
       "<style scoped>\n",
       "    .dataframe tbody tr th:only-of-type {\n",
       "        vertical-align: middle;\n",
       "    }\n",
       "\n",
       "    .dataframe tbody tr th {\n",
       "        vertical-align: top;\n",
       "    }\n",
       "\n",
       "    .dataframe thead th {\n",
       "        text-align: right;\n",
       "    }\n",
       "</style>\n",
       "<table border=\"1\" class=\"dataframe\">\n",
       "  <thead>\n",
       "    <tr style=\"text-align: right;\">\n",
       "      <th></th>\n",
       "      <th>query</th>\n",
       "      <th>related</th>\n",
       "      <th>similarity</th>\n",
       "      <th>count</th>\n",
       "    </tr>\n",
       "  </thead>\n",
       "  <tbody>\n",
       "    <tr>\n",
       "      <th>0</th>\n",
       "      <td>bivirkning</td>\n",
       "      <td>bivirkning</td>\n",
       "      <td>1.0</td>\n",
       "      <td>1.0</td>\n",
       "    </tr>\n",
       "    <tr>\n",
       "      <th>1</th>\n",
       "      <td>bivirkning</td>\n",
       "      <td>supe</td>\n",
       "      <td>1.0</td>\n",
       "      <td>1.0</td>\n",
       "    </tr>\n",
       "    <tr>\n",
       "      <th>2</th>\n",
       "      <td>bivirkning</td>\n",
       "      <td>spøge</td>\n",
       "      <td>1.0</td>\n",
       "      <td>1.0</td>\n",
       "    </tr>\n",
       "    <tr>\n",
       "      <th>3</th>\n",
       "      <td>bivirkning</td>\n",
       "      <td>studi</td>\n",
       "      <td>1.0</td>\n",
       "      <td>1.0</td>\n",
       "    </tr>\n",
       "    <tr>\n",
       "      <th>4</th>\n",
       "      <td>bivirkning</td>\n",
       "      <td>argument</td>\n",
       "      <td>1.0</td>\n",
       "      <td>2.0</td>\n",
       "    </tr>\n",
       "  </tbody>\n",
       "</table>\n",
       "</div>"
      ],
      "text/plain": [
       "        query     related  similarity  count\n",
       "0  bivirkning  bivirkning         1.0    1.0\n",
       "1  bivirkning        supe         1.0    1.0\n",
       "2  bivirkning       spøge         1.0    1.0\n",
       "3  bivirkning       studi         1.0    1.0\n",
       "4  bivirkning    argument         1.0    2.0"
      ]
     },
     "execution_count": 5,
     "metadata": {},
     "output_type": "execute_result"
    }
   ],
   "source": [
    "# import phrase list\n",
    "# query_list = import_query('data/200729_hpv_query.csv', 'da')\n",
    "\n",
    "# train a cbow model\n",
    "# cbow_texts = Word2Vec(texts,\n",
    "#                       size=300, window=20, min_count=100,\n",
    "#                       sg=0, hs=0,\n",
    "#                       iter=500, workers=4)\n",
    "cbow_texts = Word2Vec(texts,\n",
    "                      size=2, window=20, min_count=1,\n",
    "                      sg=0, hs=0,\n",
    "                      iter=500, workers=4)\n",
    "\n",
    "# get a list of words similar to those in the phrase list\n",
    "query_related = get_related(cbow_texts.wv, query_list, topn=10, cutoff=0)\n",
    "\n",
    "# save + display a sample\n",
    "(query_related\n",
    " #.to_csv('S3_query_related.csv')\n",
    " .head())"
   ]
  },
  {
   "cell_type": "markdown",
   "metadata": {},
   "source": [
    "Now the seeds have to be __manually redacted__."
   ]
  },
  {
   "cell_type": "markdown",
   "metadata": {},
   "source": [
    "<br>\n",
    "\n",
    "## Topic modeling"
   ]
  },
  {
   "cell_type": "code",
   "execution_count": 1,
   "metadata": {},
   "outputs": [
    {
     "name": "stderr",
     "output_type": "stream",
     "text": [
      "/home/jan/word-vects/lib/python3.6/site-packages/scipy/sparse/sparsetools.py:21: DeprecationWarning: `scipy.sparse.sparsetools` is deprecated!\n",
      "scipy.sparse.sparsetools is a private module for scipy.sparse, and should not be used.\n",
      "  _deprecated()\n"
     ]
    }
   ],
   "source": [
    "#from src.lda.asymmetric import grid_search_lda_ASM\n",
    "from src.lda.seeded import grid_search_lda_SED\n",
    "from src.utility.general import compile_report"
   ]
  },
  {
   "cell_type": "code",
   "execution_count": 4,
   "metadata": {},
   "outputs": [
    {
     "name": "stderr",
     "output_type": "stream",
     "text": [
      "/home/jan/word-vects/lib/python3.6/site-packages/guidedlda/utils.py:55: FutureWarning: Conversion of the second argument of issubdtype from `int` to `np.signedinteger` is deprecated. In future, it will be treated as `np.int64 == np.dtype(int).type`.\n",
      "  if sparse and not np.issubdtype(doc_word.dtype, int):\n",
      "/home/jan/word-vects/lib/python3.6/site-packages/guidedlda/utils.py:55: FutureWarning: Conversion of the second argument of issubdtype from `int` to `np.signedinteger` is deprecated. In future, it will be treated as `np.int64 == np.dtype(int).type`.\n",
      "  if sparse and not np.issubdtype(doc_word.dtype, int):\n",
      "/home/jan/word-vects/lib/python3.6/site-packages/guidedlda/utils.py:55: FutureWarning: Conversion of the second argument of issubdtype from `int` to `np.signedinteger` is deprecated. In future, it will be treated as `np.int64 == np.dtype(int).type`.\n",
      "  if sparse and not np.issubdtype(doc_word.dtype, int):\n",
      "/home/jan/word-vects/lib/python3.6/site-packages/guidedlda/utils.py:55: FutureWarning: Conversion of the second argument of issubdtype from `int` to `np.signedinteger` is deprecated. In future, it will be treated as `np.int64 == np.dtype(int).type`.\n",
      "  if sparse and not np.issubdtype(doc_word.dtype, int):\n",
      "/home/jan/word-vects/lib/python3.6/site-packages/guidedlda/utils.py:55: FutureWarning: Conversion of the second argument of issubdtype from `int` to `np.signedinteger` is deprecated. In future, it will be treated as `np.int64 == np.dtype(int).type`.\n",
      "  if sparse and not np.issubdtype(doc_word.dtype, int):\n",
      "/home/jan/word-vects/lib/python3.6/site-packages/guidedlda/utils.py:55: FutureWarning: Conversion of the second argument of issubdtype from `int` to `np.signedinteger` is deprecated. In future, it will be treated as `np.int64 == np.dtype(int).type`.\n",
      "  if sparse and not np.issubdtype(doc_word.dtype, int):\n",
      "/home/jan/word-vects/lib/python3.6/site-packages/guidedlda/utils.py:55: FutureWarning: Conversion of the second argument of issubdtype from `int` to `np.signedinteger` is deprecated. In future, it will be treated as `np.int64 == np.dtype(int).type`.\n",
      "  if sparse and not np.issubdtype(doc_word.dtype, int):\n",
      "/home/jan/word-vects/lib/python3.6/site-packages/guidedlda/utils.py:55: FutureWarning: Conversion of the second argument of issubdtype from `int` to `np.signedinteger` is deprecated. In future, it will be treated as `np.int64 == np.dtype(int).type`.\n",
      "  if sparse and not np.issubdtype(doc_word.dtype, int):\n",
      "/home/jan/word-vects/lib/python3.6/site-packages/guidedlda/utils.py:55: FutureWarning: Conversion of the second argument of issubdtype from `int` to `np.signedinteger` is deprecated. In future, it will be treated as `np.int64 == np.dtype(int).type`.\n",
      "  if sparse and not np.issubdtype(doc_word.dtype, int):\n",
      "/home/jan/word-vects/lib/python3.6/site-packages/guidedlda/utils.py:55: FutureWarning: Conversion of the second argument of issubdtype from `int` to `np.signedinteger` is deprecated. In future, it will be treated as `np.int64 == np.dtype(int).type`.\n",
      "  if sparse and not np.issubdtype(doc_word.dtype, int):\n",
      "/home/jan/word-vects/lib/python3.6/site-packages/guidedlda/utils.py:55: FutureWarning: Conversion of the second argument of issubdtype from `int` to `np.signedinteger` is deprecated. In future, it will be treated as `np.int64 == np.dtype(int).type`.\n",
      "  if sparse and not np.issubdtype(doc_word.dtype, int):\n",
      "/home/jan/word-vects/lib/python3.6/site-packages/guidedlda/utils.py:55: FutureWarning: Conversion of the second argument of issubdtype from `int` to `np.signedinteger` is deprecated. In future, it will be treated as `np.int64 == np.dtype(int).type`.\n",
      "  if sparse and not np.issubdtype(doc_word.dtype, int):\n"
     ]
    }
   ],
   "source": [
    "grid_search_lda_SED(\n",
    "    texts=texts,\n",
    "    seed_topic_list=[],\n",
    "    n_topics_range=[5, 10, 15],\n",
    "    priors_range=[(0.1, 0.01), (0.5, 0.1)],\n",
    "    out_dir='models/test_seeded/',\n",
    "    n_top_words=10,\n",
    "    vectorizer_type='count',\n",
    "    iterations=100,\n",
    "    verbose=False\n",
    ")"
   ]
  },
  {
   "cell_type": "code",
   "execution_count": 2,
   "metadata": {},
   "outputs": [
    {
     "data": {
      "text/html": [
       "<div>\n",
       "<style scoped>\n",
       "    .dataframe tbody tr th:only-of-type {\n",
       "        vertical-align: middle;\n",
       "    }\n",
       "\n",
       "    .dataframe tbody tr th {\n",
       "        vertical-align: top;\n",
       "    }\n",
       "\n",
       "    .dataframe thead th {\n",
       "        text-align: right;\n",
       "    }\n",
       "</style>\n",
       "<table border=\"1\" class=\"dataframe\">\n",
       "  <thead>\n",
       "    <tr style=\"text-align: right;\">\n",
       "      <th></th>\n",
       "      <th>model</th>\n",
       "      <th>n_top</th>\n",
       "      <th>alpha</th>\n",
       "      <th>eta</th>\n",
       "      <th>training_time</th>\n",
       "      <th>coh_score</th>\n",
       "      <th>coh_topic</th>\n",
       "    </tr>\n",
       "  </thead>\n",
       "  <tbody>\n",
       "    <tr>\n",
       "      <th>0</th>\n",
       "      <td>5T_1I_</td>\n",
       "      <td>5</td>\n",
       "      <td>0.1</td>\n",
       "      <td>0.01</td>\n",
       "      <td>0.166858</td>\n",
       "      <td>-6.194405</td>\n",
       "      <td>[-15.067980609758628, -10.474334094788585, -5....</td>\n",
       "    </tr>\n",
       "    <tr>\n",
       "      <th>1</th>\n",
       "      <td>10T_5I_</td>\n",
       "      <td>10</td>\n",
       "      <td>0.1</td>\n",
       "      <td>0.01</td>\n",
       "      <td>0.146791</td>\n",
       "      <td>-7.527829</td>\n",
       "      <td>[-12.058322101790363, -15.19120677519151, 6.00...</td>\n",
       "    </tr>\n",
       "    <tr>\n",
       "      <th>2</th>\n",
       "      <td>5T_5I_</td>\n",
       "      <td>5</td>\n",
       "      <td>0.5</td>\n",
       "      <td>0.10</td>\n",
       "      <td>0.149735</td>\n",
       "      <td>-9.062353</td>\n",
       "      <td>[-16.20098896782203, -0.2618556015388681, -9.7...</td>\n",
       "    </tr>\n",
       "    <tr>\n",
       "      <th>3</th>\n",
       "      <td>10T_10I_</td>\n",
       "      <td>10</td>\n",
       "      <td>0.5</td>\n",
       "      <td>0.10</td>\n",
       "      <td>0.146860</td>\n",
       "      <td>-9.875912</td>\n",
       "      <td>[-5.1678523293352985, 6.000089314266196e-12, -...</td>\n",
       "    </tr>\n",
       "    <tr>\n",
       "      <th>4</th>\n",
       "      <td>15T_10I_</td>\n",
       "      <td>15</td>\n",
       "      <td>0.1</td>\n",
       "      <td>0.01</td>\n",
       "      <td>0.145731</td>\n",
       "      <td>-10.372673</td>\n",
       "      <td>[-13.78093954490413, -5.1678523293352985, -13....</td>\n",
       "    </tr>\n",
       "    <tr>\n",
       "      <th>5</th>\n",
       "      <td>15T_15I_</td>\n",
       "      <td>15</td>\n",
       "      <td>0.5</td>\n",
       "      <td>0.10</td>\n",
       "      <td>0.147313</td>\n",
       "      <td>-11.491019</td>\n",
       "      <td>[-9.76149884430534, -5.1678523293352985, -9.76...</td>\n",
       "    </tr>\n",
       "  </tbody>\n",
       "</table>\n",
       "</div>"
      ],
      "text/plain": [
       "      model  n_top  alpha   eta  training_time  coh_score  \\\n",
       "0    5T_1I_      5    0.1  0.01       0.166858  -6.194405   \n",
       "1   10T_5I_     10    0.1  0.01       0.146791  -7.527829   \n",
       "2    5T_5I_      5    0.5  0.10       0.149735  -9.062353   \n",
       "3  10T_10I_     10    0.5  0.10       0.146860  -9.875912   \n",
       "4  15T_10I_     15    0.1  0.01       0.145731 -10.372673   \n",
       "5  15T_15I_     15    0.5  0.10       0.147313 -11.491019   \n",
       "\n",
       "                                           coh_topic  \n",
       "0  [-15.067980609758628, -10.474334094788585, -5....  \n",
       "1  [-12.058322101790363, -15.19120677519151, 6.00...  \n",
       "2  [-16.20098896782203, -0.2618556015388681, -9.7...  \n",
       "3  [-5.1678523293352985, 6.000089314266196e-12, -...  \n",
       "4  [-13.78093954490413, -5.1678523293352985, -13....  \n",
       "5  [-9.76149884430534, -5.1678523293352985, -9.76...  "
      ]
     },
     "execution_count": 2,
     "metadata": {},
     "output_type": "execute_result"
    }
   ],
   "source": [
    "compile_report('models/test_seeded/report_lines/')"
   ]
  }
 ],
 "metadata": {
  "kernelspec": {
   "display_name": "word-vects",
   "language": "python",
   "name": "word-vects"
  },
  "language_info": {
   "codemirror_mode": {
    "name": "ipython",
    "version": 3
   },
   "file_extension": ".py",
   "mimetype": "text/x-python",
   "name": "python",
   "nbconvert_exporter": "python",
   "pygments_lexer": "ipython3",
   "version": "3.6.9"
  }
 },
 "nbformat": 4,
 "nbformat_minor": 4
}
