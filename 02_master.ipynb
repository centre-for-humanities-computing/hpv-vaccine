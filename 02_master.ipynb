{
 "cells": [
  {
   "cell_type": "markdown",
   "metadata": {},
   "source": [
    "Table of contents: TBA"
   ]
  },
  {
   "cell_type": "markdown",
   "metadata": {},
   "source": [
    "## Removal of giveaway posts\n",
    "\n",
    "a) __Naive Bayes classification__ of FB posts to detect viral marketing.  \n",
    "b) __remove whole threads__ that started with a giveaway post. \n",
    "\n",
    "Before removal: 114,826 documents  \n",
    "After removal: 59,207 documents\n",
    "\n",
    "TODO: hide code"
   ]
  },
  {
   "cell_type": "code",
   "execution_count": 1,
   "metadata": {},
   "outputs": [],
   "source": [
    "import pandas as pd\n",
    "\n",
    "from src.giveaway.GiveawayClassifier import GiveawayClassifier\n",
    "from src.utility.general import export_serialized"
   ]
  },
  {
   "cell_type": "code",
   "execution_count": 2,
   "metadata": {},
   "outputs": [
    {
     "name": "stderr",
     "output_type": "stream",
     "text": [
      "/home/jan/word-vects/lib/python3.6/site-packages/IPython/core/interactiveshell.py:3063: DtypeWarning: Columns (7,8,14) have mixed types.Specify dtype option on import or set low_memory=False.\n",
      "  interactivity=interactivity, compiler=compiler, result=result)\n"
     ]
    }
   ],
   "source": [
    "# load in dataset you with to work on\n",
    "df = pd.read_csv(\n",
    "    'data/hpv_data_reactions_copy.csv',\n",
    "    parse_dates = ['time']\n",
    ")"
   ]
  },
  {
   "cell_type": "markdown",
   "metadata": {},
   "source": [
    "Load training data for the classifier (494 documents).  \n",
    "\n",
    "POST-level content found to contain Marie Louise's stopwords.  \n",
    "Hand labeled by one person."
   ]
  },
  {
   "cell_type": "code",
   "execution_count": 3,
   "metadata": {},
   "outputs": [],
   "source": [
    "labeled = (pd.read_csv('data/200414_giveaway_training.csv')\n",
    "           # drops 2 rows with a missing label (496 rows in original file)\n",
    "           .dropna(subset=['giveaway']))\n",
    "\n",
    "X = labeled['text']\n",
    "y = labeled['giveaway']"
   ]
  },
  {
   "cell_type": "markdown",
   "metadata": {},
   "source": [
    "Train the Giveaway Classifier."
   ]
  },
  {
   "cell_type": "code",
   "execution_count": 4,
   "metadata": {},
   "outputs": [
    {
     "data": {
      "text/html": [
       "<div>\n",
       "<style scoped>\n",
       "    .dataframe tbody tr th:only-of-type {\n",
       "        vertical-align: middle;\n",
       "    }\n",
       "\n",
       "    .dataframe tbody tr th {\n",
       "        vertical-align: top;\n",
       "    }\n",
       "\n",
       "    .dataframe thead th {\n",
       "        text-align: right;\n",
       "    }\n",
       "</style>\n",
       "<table border=\"1\" class=\"dataframe\">\n",
       "  <thead>\n",
       "    <tr style=\"text-align: right;\">\n",
       "      <th></th>\n",
       "      <th>accuracy</th>\n",
       "      <th>brier_n</th>\n",
       "      <th>brier_giveaway</th>\n",
       "      <th>recall_n</th>\n",
       "      <th>recall_giveaway</th>\n",
       "      <th>precision_n</th>\n",
       "      <th>precision_giveaway</th>\n",
       "    </tr>\n",
       "  </thead>\n",
       "  <tbody>\n",
       "    <tr>\n",
       "      <th>train</th>\n",
       "      <td>0.973913</td>\n",
       "      <td>0.973913</td>\n",
       "      <td>0.026087</td>\n",
       "      <td>0.992832</td>\n",
       "      <td>0.893939</td>\n",
       "      <td>0.975352</td>\n",
       "      <td>0.967213</td>\n",
       "    </tr>\n",
       "    <tr>\n",
       "      <th>test</th>\n",
       "      <td>0.973154</td>\n",
       "      <td>0.973154</td>\n",
       "      <td>0.026846</td>\n",
       "      <td>0.984252</td>\n",
       "      <td>0.909091</td>\n",
       "      <td>0.984252</td>\n",
       "      <td>0.909091</td>\n",
       "    </tr>\n",
       "  </tbody>\n",
       "</table>\n",
       "</div>"
      ],
      "text/plain": [
       "       accuracy   brier_n  brier_giveaway  recall_n  recall_giveaway  \\\n",
       "train  0.973913  0.973913        0.026087  0.992832         0.893939   \n",
       "test   0.973154  0.973154        0.026846  0.984252         0.909091   \n",
       "\n",
       "       precision_n  precision_giveaway  \n",
       "train     0.975352            0.967213  \n",
       "test      0.984252            0.909091  "
      ]
     },
     "execution_count": 4,
     "metadata": {},
     "output_type": "execute_result"
    }
   ],
   "source": [
    "gc = GiveawayClassifier(X=X, y=y)\n",
    "gc.train()\n",
    "gc.report"
   ]
  },
  {
   "cell_type": "markdown",
   "metadata": {},
   "source": [
    "Classify only POST-level content in the loaded dataset.  \n",
    "The model classifies short comments unreliably."
   ]
  },
  {
   "cell_type": "code",
   "execution_count": 5,
   "metadata": {},
   "outputs": [
    {
     "data": {
      "text/html": [
       "<div>\n",
       "<style scoped>\n",
       "    .dataframe tbody tr th:only-of-type {\n",
       "        vertical-align: middle;\n",
       "    }\n",
       "\n",
       "    .dataframe tbody tr th {\n",
       "        vertical-align: top;\n",
       "    }\n",
       "\n",
       "    .dataframe thead th {\n",
       "        text-align: right;\n",
       "    }\n",
       "</style>\n",
       "<table border=\"1\" class=\"dataframe\">\n",
       "  <thead>\n",
       "    <tr style=\"text-align: right;\">\n",
       "      <th></th>\n",
       "      <th>id_orig</th>\n",
       "      <th>text</th>\n",
       "      <th>predicted</th>\n",
       "    </tr>\n",
       "  </thead>\n",
       "  <tbody>\n",
       "    <tr>\n",
       "      <th>21</th>\n",
       "      <td>109826</td>\n",
       "      <td>Et GODT svar  :)\\n\\nhttps://www.facebook.com/g...</td>\n",
       "      <td>1.0</td>\n",
       "    </tr>\n",
       "    <tr>\n",
       "      <th>608</th>\n",
       "      <td>110413</td>\n",
       "      <td>VIND 2 PLADSER TIL VORES OVERDÅDIGE SKALDYRSBU...</td>\n",
       "      <td>1.0</td>\n",
       "    </tr>\n",
       "    <tr>\n",
       "      <th>636</th>\n",
       "      <td>110441</td>\n",
       "      <td>*** TILLYKKE TIL DEN HELDIGE VINDER : Christin...</td>\n",
       "      <td>1.0</td>\n",
       "    </tr>\n",
       "    <tr>\n",
       "      <th>668</th>\n",
       "      <td>110473</td>\n",
       "      <td>Velkommen til Ærø 😊\\nhttps://www.facebook.com/...</td>\n",
       "      <td>1.0</td>\n",
       "    </tr>\n",
       "    <tr>\n",
       "      <th>705</th>\n",
       "      <td>110510</td>\n",
       "      <td>Konkurrence! I vores nye elektronikbutik, Capi...</td>\n",
       "      <td>1.0</td>\n",
       "    </tr>\n",
       "    <tr>\n",
       "      <th>...</th>\n",
       "      <td>...</td>\n",
       "      <td>...</td>\n",
       "      <td>...</td>\n",
       "    </tr>\n",
       "    <tr>\n",
       "      <th>4932</th>\n",
       "      <td>114737</td>\n",
       "      <td>Konkurrence: Vind et valgfrit ur fra Wooden Wo...</td>\n",
       "      <td>1.0</td>\n",
       "    </tr>\n",
       "    <tr>\n",
       "      <th>4990</th>\n",
       "      <td>114795</td>\n",
       "      <td>Stadig ledige pladser til årets julegave-works...</td>\n",
       "      <td>1.0</td>\n",
       "    </tr>\n",
       "    <tr>\n",
       "      <th>5008</th>\n",
       "      <td>114813</td>\n",
       "      <td>Yoga i bjergtagende landskaber. Et alternativt...</td>\n",
       "      <td>1.0</td>\n",
       "    </tr>\n",
       "    <tr>\n",
       "      <th>5010</th>\n",
       "      <td>114815</td>\n",
       "      <td>Nu er det snart jul - og det vil vi gerne fejr...</td>\n",
       "      <td>1.0</td>\n",
       "    </tr>\n",
       "    <tr>\n",
       "      <th>5014</th>\n",
       "      <td>114819</td>\n",
       "      <td>Sig tak med en julefest\\n\\nJulen er hjerternes...</td>\n",
       "      <td>1.0</td>\n",
       "    </tr>\n",
       "  </tbody>\n",
       "</table>\n",
       "<p>116 rows × 3 columns</p>\n",
       "</div>"
      ],
      "text/plain": [
       "      id_orig                                               text  predicted\n",
       "21     109826  Et GODT svar  :)\\n\\nhttps://www.facebook.com/g...        1.0\n",
       "608    110413  VIND 2 PLADSER TIL VORES OVERDÅDIGE SKALDYRSBU...        1.0\n",
       "636    110441  *** TILLYKKE TIL DEN HELDIGE VINDER : Christin...        1.0\n",
       "668    110473  Velkommen til Ærø 😊\\nhttps://www.facebook.com/...        1.0\n",
       "705    110510  Konkurrence! I vores nye elektronikbutik, Capi...        1.0\n",
       "...       ...                                                ...        ...\n",
       "4932   114737  Konkurrence: Vind et valgfrit ur fra Wooden Wo...        1.0\n",
       "4990   114795  Stadig ledige pladser til årets julegave-works...        1.0\n",
       "5008   114813  Yoga i bjergtagende landskaber. Et alternativt...        1.0\n",
       "5010   114815  Nu er det snart jul - og det vil vi gerne fejr...        1.0\n",
       "5014   114819  Sig tak med en julefest\\n\\nJulen er hjerternes...        1.0\n",
       "\n",
       "[116 rows x 3 columns]"
      ]
     },
     "execution_count": 5,
     "metadata": {},
     "output_type": "execute_result"
    }
   ],
   "source": [
    "df_post = df.query('content_type == \"POST\"')\n",
    "\n",
    "giveawas_df = (gc\n",
    "               .predict_new(df_post.text, negative_for_url=True)\n",
    "               .query('predicted == 1')\n",
    "               .rename(columns={'index': 'id_orig'})\n",
    "              )\n",
    "\n",
    "giveawas_df"
   ]
  },
  {
   "cell_type": "markdown",
   "metadata": {},
   "source": [
    "Filter found threads from the original dataset  \n",
    "a) find post_id's that were labeled as a giveaway  \n",
    "b) filter threads with such post ids out  "
   ]
  },
  {
   "cell_type": "code",
   "execution_count": 6,
   "metadata": {},
   "outputs": [],
   "source": [
    "bad_threads = df.query('@giveawas_df.id_orig').post_id\n",
    "bad_threads = [num for num in bad_threads]\n",
    "\n",
    "# remove bad threads\n",
    "S1_giveaway_removed = df.query('post_id != @bad_threads')\n",
    "\n",
    "# save whole dataframe\n",
    "S1_giveaway_removed.to_csv('data/S1_giveaway_removed.csv')\n",
    "\n",
    "# save texts with ID\n",
    "export_serialized(\n",
    "    df=S1_giveaway_removed,\n",
    "    column='text',\n",
    "    path='data/S1_fb_texts.ndjson'\n",
    ")"
   ]
  },
  {
   "cell_type": "markdown",
   "metadata": {},
   "source": [
    "<br>\n",
    "\n",
    "## Preprocessing\n",
    "_[text_to_x](https://github.com/centre-for-humanities-computing/text_to_x)_\n",
    "\n",
    "a) __tokens__, __lemmas__, __POS__ & __dependency parsing__ using [Stanza](https://github.com/stanfordnlp/stanza)  \n",
    "b) __NER__ using [Flair](https://github.com/flairNLP/flair)"
   ]
  },
  {
   "cell_type": "markdown",
   "metadata": {},
   "source": [
    "Takes a lot of time to run. \n",
    "It is recommended that you run this part from the terminal.\n",
    "\n",
    "```bash\n",
    "cd hpv-vaccine\n",
    "python3 src/preprocessing.py -p data/S1_fb_texts.ndjson -o data/S2_fb_prep.ndjson --lang 'da' --jobs 4\n",
    "```\n"
   ]
  },
  {
   "cell_type": "markdown",
   "metadata": {},
   "source": [
    "<br>\n",
    "\n",
    "## Feature selection \n",
    "\n",
    "a) __Filter out non-meaningful Parts of Speech from all texts__.   \n",
    "Only NOUN, PROP-NOUN, ADJ, VERB and ADVERB will be kept\n",
    "\n",
    "\n",
    "b) __Neural detection of phrases__.  \n",
    "If two tokens appear together often, they will be concatenated into a single token."
   ]
  },
  {
   "cell_type": "code",
   "execution_count": null,
   "metadata": {},
   "outputs": [],
   "source": [
    "import ndjson\n",
    "\n",
    "from src.utility import phraser\n",
    "from src.utility.general import load_data"
   ]
  },
  {
   "cell_type": "code",
   "execution_count": null,
   "metadata": {},
   "outputs": [],
   "source": [
    "# import preprocessed data\n",
    "texts = load_data('fb_prep.ndjson')\n",
    "\n",
    "# phraser has both a) & b) functionality\n",
    "texts_phrased = phraser.train(texts)\n",
    "\n",
    "# display a sample\n"
   ]
  },
  {
   "cell_type": "markdown",
   "metadata": {},
   "source": [
    "<br>\n",
    "\n",
    "## Seed selection\n",
    "\n",
    "a) __Train a CBOW model__  \n",
    "To be used for finding related words to query.  \n",
    "Intentions behind the parameters:\n",
    "- words that appear together in the whole FB post (window=20)\n",
    "- frequent words, so that the seeds are generalizable (min_count=100)\n",
    "\n",
    "_comment: potentially this could be taken care of by PmiSvdEmbeddings._\n",
    "\n",
    "b) __Enhance phrase list__  \n",
    "Add synonyms and related words to a given phrase list. This will be used as guide the topic model."
   ]
  },
  {
   "cell_type": "code",
   "execution_count": null,
   "metadata": {},
   "outputs": [],
   "source": [
    "from gensim.models import Word2Vec, KeyedVectors\n",
    "\n",
    "# from src.embeddings.pmisvd import PmiSvdEmbeddings\n",
    "from src.embeddings.query_ops import import_query, get_related"
   ]
  },
  {
   "cell_type": "code",
   "execution_count": null,
   "metadata": {},
   "outputs": [],
   "source": [
    "# import phrase list\n",
    "query_list = import_query('path.csv')\n",
    "\n",
    "# train a cbow model\n",
    "cbow_texts = Word2Vec(text_phrased,\n",
    "                      size=300, window=20, min_count=100,\n",
    "                      sg=0, hs=0,\n",
    "                      iter=500, workers=4)\n",
    "\n",
    "# get a list of words similar to those in the phrase list\n",
    "query_related = get_related(cbow_texts.wv, query_list, topn=10, cutoff=100)\n",
    "\n",
    "# save + display a sample\n",
    "(query_related\n",
    " .to_csv('path.csv')\n",
    " .head())"
   ]
  },
  {
   "cell_type": "markdown",
   "metadata": {},
   "source": [
    "Now the seeds have to be __manually redacted__."
   ]
  },
  {
   "cell_type": "markdown",
   "metadata": {},
   "source": [
    "<br>\n",
    "\n",
    "## Topic modeling"
   ]
  },
  {
   "cell_type": "code",
   "execution_count": null,
   "metadata": {},
   "outputs": [],
   "source": [
    "from src.lda.asymmetric import lda_grid_search_ASM\n",
    "from src.lda.seeded import lda_grid_search_SED"
   ]
  }
 ],
 "metadata": {
  "kernelspec": {
   "display_name": "word-vects",
   "language": "python",
   "name": "word-vects"
  },
  "language_info": {
   "codemirror_mode": {
    "name": "ipython",
    "version": 3
   },
   "file_extension": ".py",
   "mimetype": "text/x-python",
   "name": "python",
   "nbconvert_exporter": "python",
   "pygments_lexer": "ipython3",
   "version": "3.6.9"
  }
 },
 "nbformat": 4,
 "nbformat_minor": 4
}
